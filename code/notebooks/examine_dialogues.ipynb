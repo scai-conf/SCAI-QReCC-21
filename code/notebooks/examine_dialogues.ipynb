{
 "cells": [
  {
   "cell_type": "code",
   "execution_count": 1,
   "metadata": {},
   "outputs": [],
   "source": [
    "# load dataset\n",
    "import json\n",
    "\n",
    "path = '../../dataset/qrecc_test.json'\n",
    "\n",
    "with open(path) as f: \n",
    "    data = json.load(f) "
   ]
  },
  {
   "cell_type": "code",
   "execution_count": 2,
   "metadata": {},
   "outputs": [
    {
     "name": "stdout",
     "output_type": "stream",
     "text": [
      "{'Context': [], 'Question': \"What is a physician's assistant?\", 'Rewrite': \"What is a physician's assistant?\", 'Answer': 'physician assistants are medical providers who are licensed to diagnose and treat illness and disease and to prescribe medication for patients', 'Answer_URL': 'https://explorehealthcareers.org/career/medicine/physician-assistant/', 'Conversation_no': 1, 'Turn_no': 1}\n",
      "21 words in the answer\n"
     ]
    }
   ],
   "source": [
    "# show example\n",
    "print(data[0])\n",
    "print(len(data[0]['Answer'].split()), 'words in the answer') # answer length in words"
   ]
  },
  {
   "cell_type": "code",
   "execution_count": 3,
   "metadata": {},
   "outputs": [
    {
     "name": "stdout",
     "output_type": "stream",
     "text": [
      "2775 conversations in total\n",
      "['https://explorehealthcareers.org/career/medicine/physician-assistant/', 'https://www.geteducated.com/careers/how-to-become-a-physician-assistant', 'https://www.thepalife.com/how-much-does-it-cost-to-go-to-physician-assistant-pa-school/', 'https://www.prospects.ac.uk/job-profiles/physician-associate', 'https://www.payscale.com/research/US/Job=Physician_Assistant_(PA)/Salary/539a2580/Entry-Level', 'http://www.collegequest.com/how-to-become-an-rn.aspx', 'https://www.gapmedics.com/blog/2015/07/23/weighing-becoming-physician-assistant-nurse/', 'https://www.nursepractitionerschools.com/faq/np-vs-physician-assistant/', 'https://www.registerednursing.org/answers/salary-difference-between-nurse-practitioner-physician-assistant/', 'https://www.physicianassistantedu.org/pa-vs-np/', 'https://www.learnhowtobecome.org/nurse/nurse-practitioner/', 'https://work.chron.com/can-nurse-practitioners-become-doctors-16505.html']\n",
      "1990 of them span across several pages\n",
      "average answer length: 18 words\n"
     ]
    }
   ],
   "source": [
    "import numpy as np\n",
    "\n",
    "# examine pages\n",
    "conv2pages = {}\n",
    "answer_lens = []\n",
    "for sample in data:\n",
    "    conv_id = sample['Conversation_no']\n",
    "    page = sample['Answer_URL']\n",
    "    if conv_id not in conv2pages:\n",
    "        conv2pages[conv_id] = []\n",
    "    if page not in conv2pages[conv_id]:\n",
    "        conv2pages[conv_id].append(page)\n",
    "    answer_lens.append(len(sample['Answer'].split()))\n",
    "# print(conv2pages)\n",
    "print(len(conv2pages), 'conversations in total')\n",
    "conversations_across_several_pages = [v for c, v in conv2pages.items() if len(v) > 1]\n",
    "print(conversations_across_several_pages[0])\n",
    "print(len(conversations_across_several_pages), 'of them span across several pages')\n",
    "print(\"average answer length: %.0f words\" % np.mean(answer_lens))"
   ]
  },
  {
   "cell_type": "code",
   "execution_count": 9,
   "metadata": {},
   "outputs": [
    {
     "name": "stdout",
     "output_type": "stream",
     "text": [
      "5556 questions without answers\n"
     ]
    }
   ],
   "source": [
    "# count empty answers\n",
    "n_empty_answers = 0 \n",
    "for sample in data:\n",
    "    if not sample['Answer']:\n",
    "        n_empty_answers += 1\n",
    "print(n_empty_answers, 'questions without answers')"
   ]
  },
  {
   "cell_type": "code",
   "execution_count": null,
   "metadata": {},
   "outputs": [],
   "source": []
  }
 ],
 "metadata": {
  "kernelspec": {
   "display_name": "transformers",
   "language": "python",
   "name": "transformers"
  },
  "language_info": {
   "codemirror_mode": {
    "name": "ipython",
    "version": 3
   },
   "file_extension": ".py",
   "mimetype": "text/x-python",
   "name": "python",
   "nbconvert_exporter": "python",
   "pygments_lexer": "ipython3",
   "version": "3.6.10"
  }
 },
 "nbformat": 4,
 "nbformat_minor": 2
}
