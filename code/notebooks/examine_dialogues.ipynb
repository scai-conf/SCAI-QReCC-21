{
 "cells": [
  {
   "cell_type": "code",
   "execution_count": 2,
   "metadata": {},
   "outputs": [],
   "source": [
    "# load dataset\n",
    "import json\n",
    "\n",
    "path = '../../dataset/qrecc_train.json'\n",
    "\n",
    "with open(path) as f: \n",
    "    data = json.load(f) "
   ]
  },
  {
   "cell_type": "code",
   "execution_count": 8,
   "metadata": {},
   "outputs": [
    {
     "name": "stdout",
     "output_type": "stream",
     "text": [
      "{'Context': [], 'Question': 'What can you tell me about Gary Cherone?', 'Rewrite': 'What can you tell me about Gary Cherone?', 'Answer': 'Gary Francis Caine Cherone is an American rock singer and songwriter, known for his work as the lead vocalist of Extreme and for his short stint for Van Halen.', 'Answer_URL': 'https://en.wikipedia.org/wiki/Van_Halen', 'Conversation_no': 1, 'Turn_no': 1}\n",
      "29 words in the answer\n"
     ]
    }
   ],
   "source": [
    "# show example\n",
    "print(data[0])\n",
    "print(len(data[0]['Answer'].split()), 'words in the answer') # answer length in words"
   ]
  },
  {
   "cell_type": "code",
   "execution_count": 4,
   "metadata": {},
   "outputs": [
    {
     "name": "stdout",
     "output_type": "stream",
     "text": [
      "10823 conversations in total\n",
      "['https://en.wikipedia.org/wiki/Sean_Combs', 'https://www.nme.com/news/music/diddy-talks-love-name-change-2205665']\n",
      "7567 of them span across several pages\n",
      "average answer length: 17 words\n"
     ]
    }
   ],
   "source": [
    "import numpy as np\n",
    "\n",
    "# examine pages\n",
    "conv2pages = {}\n",
    "answer_lens = []\n",
    "for sample in data:\n",
    "    conv_id = sample['Conversation_no']\n",
    "    page = sample['Answer_URL']\n",
    "    if conv_id not in conv2pages:\n",
    "        conv2pages[conv_id] = []\n",
    "    if page not in conv2pages[conv_id]:\n",
    "        conv2pages[conv_id].append(page)\n",
    "    answer_lens.append(len(sample['Answer'].split()))\n",
    "# print(conv2pages)\n",
    "print(len(conv2pages), 'conversations in total')\n",
    "conversations_across_several_pages = [v for c, v in conv2pages.items() if len(v) > 1]\n",
    "print(conversations_across_several_pages[0])\n",
    "print(len(conversations_across_several_pages), 'of them span across several pages')\n",
    "print(\"average answer length: %.0f words\" % np.mean(answer_lens))"
   ]
  },
  {
   "cell_type": "code",
   "execution_count": 9,
   "metadata": {},
   "outputs": [
    {
     "name": "stdout",
     "output_type": "stream",
     "text": [
      "5556 questions without answers\n"
     ]
    }
   ],
   "source": [
    "# count empty answers\n",
    "n_empty_answers = 0 \n",
    "for sample in data:\n",
    "    if not sample['Answer']:\n",
    "        n_empty_answers += 1\n",
    "print(n_empty_answers, 'questions without answers')"
   ]
  },
  {
   "cell_type": "code",
   "execution_count": 7,
   "metadata": {},
   "outputs": [],
   "source": [
    "# check first questions rewrites\n",
    "samples = []\n",
    "for sample in data:\n",
    "    turn = sample['Turn_no']\n",
    "    if turn == 1:\n",
    "        q = sample['Question']\n",
    "        r = sample['Rewrite']\n",
    "        if q != r:\n",
    "            sample['Question'] = r\n",
    "#             print(sample)\n",
    "#             break\n",
    "    samples.append(sample)\n",
    "\n",
    "# save\n",
    "with open('../../dataset/qrecc_train_fix.json', 'w') as f:\n",
    "    json.dump(samples, f, indent=4)"
   ]
  },
  {
   "cell_type": "code",
   "execution_count": null,
   "metadata": {},
   "outputs": [],
   "source": []
  }
 ],
 "metadata": {
  "kernelspec": {
   "display_name": "transformers",
   "language": "python",
   "name": "transformers"
  },
  "language_info": {
   "codemirror_mode": {
    "name": "ipython",
    "version": 3
   },
   "file_extension": ".py",
   "mimetype": "text/x-python",
   "name": "python",
   "nbconvert_exporter": "python",
   "pygments_lexer": "ipython3",
   "version": "3.6.10"
  }
 },
 "nbformat": 4,
 "nbformat_minor": 2
}
