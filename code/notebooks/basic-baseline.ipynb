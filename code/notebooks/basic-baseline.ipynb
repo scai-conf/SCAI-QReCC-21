{
 "cells": [
  {
   "cell_type": "code",
   "execution_count": 2,
   "metadata": {},
   "outputs": [
    {
     "name": "stdout",
     "output_type": "stream",
     "text": [
      "16451 samples\n"
     ]
    }
   ],
   "source": [
    "# human rewritten\n",
    "import json\n",
    "\n",
    "path = '../../dataset/qrecc-test.json'\n",
    "results = []\n",
    "with open(path) as f: \n",
    "    data = json.load(f)\n",
    "    for sample in data:\n",
    "        answer = sample['Question']\n",
    "#         answer = sample['Rewrite']\n",
    "        result = {\"Model_answer\": answer, \"Conversation_no\": sample['Conversation_no'], \"Turn_no\": sample['Turn_no']}\n",
    "        results.append(result)\n",
    "print(len(results), 'samples')\n",
    "\n",
    "run_path = \"../../runs/basic-baseline-original-questions.json\"\n",
    "\n",
    "with open(run_path, \"w\") as output_file:\n",
    "    json.dump(results, output_file, indent=4)"
   ]
  },
  {
   "cell_type": "code",
   "execution_count": null,
   "metadata": {},
   "outputs": [],
   "source": []
  }
 ],
 "metadata": {
  "kernelspec": {
   "display_name": "transformers",
   "language": "python",
   "name": "transformers"
  },
  "language_info": {
   "codemirror_mode": {
    "name": "ipython",
    "version": 3
   },
   "file_extension": ".py",
   "mimetype": "text/x-python",
   "name": "python",
   "nbconvert_exporter": "python",
   "pygments_lexer": "ipython3",
   "version": "3.6.10"
  }
 },
 "nbformat": 4,
 "nbformat_minor": 2
}
