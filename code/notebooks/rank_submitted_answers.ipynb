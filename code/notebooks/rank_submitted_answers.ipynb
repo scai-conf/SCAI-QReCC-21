{
 "cells": [
  {
   "cell_type": "code",
   "execution_count": 3,
   "metadata": {},
   "outputs": [],
   "source": [
    "# load gt\n",
    "import json\n",
    "\n",
    "path = '../../dataset/qrecc-test.json'\n",
    "\n",
    "with open(path) as f: \n",
    "    data = json.load(f)"
   ]
  },
  {
   "cell_type": "code",
   "execution_count": 19,
   "metadata": {},
   "outputs": [
    {
     "name": "stdout",
     "output_type": "stream",
     "text": [
      "simple_baseline_rewritten.json\n",
      "gpt3_run.json\n",
      "scai-qrecc21-naacl-baseline.json\n",
      "basic-baseline-run.json\n",
      "\n",
      " 16736 samples loaded\n"
     ]
    }
   ],
   "source": [
    "# load all samples with model labels\n",
    "import os\n",
    "\n",
    "path = '../../runs/'\n",
    "\n",
    "samples = {}\n",
    "for filename in os.listdir(path):\n",
    "    if filename.endswith('.json'):\n",
    "        # load model run\n",
    "        with open(path+filename, encoding=\"utf-8\") as f:\n",
    "            print(filename)\n",
    "            model_label = filename.split('.')[0]\n",
    "            # load samples for this run\n",
    "            run = json.load(f)\n",
    "            for sample in run:\n",
    "                sample_id = \"%d_%d\" % (sample['Conversation_no'], sample['Turn_no']) \n",
    "                if sample_id not in samples:\n",
    "                    samples[sample_id] = {}\n",
    "                samples[sample_id][model_label] = sample['Model_answer']\n",
    "                \n",
    "print('\\n %d samples loaded' % len(samples))"
   ]
  },
  {
   "cell_type": "code",
   "execution_count": 20,
   "metadata": {},
   "outputs": [],
   "source": [
    "# load answer encoder\n",
    "from sentence_transformers import SentenceTransformer, util\n",
    "model = SentenceTransformer('paraphrase-MiniLM-L12-v2')"
   ]
  },
  {
   "cell_type": "code",
   "execution_count": 21,
   "metadata": {},
   "outputs": [],
   "source": [
    "# create a single ranked list\n",
    "ranked_list = []\n",
    "for i, sample in enumerate(data[:500]):  #[:limit]\n",
    "    # group all answers\n",
    "    gt_answers = [sample['Answer']]\n",
    "    sample_id = \"%d_%d\" % (sample['Conversation_no'], sample['Turn_no']) \n",
    "    \n",
    "    if sample_id in samples:\n",
    "        model_answers = list(samples[sample_id].values())\n",
    "        model_labels = list(samples[sample_id].keys())\n",
    "    \n",
    "        #Compute embedding for both lists\n",
    "        gt_embeddings = model.encode(gt_answers, convert_to_tensor=True)\n",
    "        model_embeddings = model.encode(model_answers, convert_to_tensor=True)\n",
    "\n",
    "        #Compute cosine-similarits\n",
    "        cosine_scores = util.pytorch_cos_sim(gt_embeddings, model_embeddings)\n",
    "        for i in range(len(cosine_scores)):\n",
    "            for j in range(len(cosine_scores[i])):\n",
    "                ranked_list.append({'question': sample['Rewrite'],\n",
    "                                    'gt': sample['Answer'],\n",
    "                                    'model': model_labels[j],\n",
    "                                    'predicted': model_answers[j],\n",
    "                                    'score': cosine_scores[i][j]})"
   ]
  },
  {
   "cell_type": "code",
   "execution_count": 22,
   "metadata": {},
   "outputs": [
    {
     "name": "stdout",
     "output_type": "stream",
     "text": [
      "What are scalable data center network architectures? \t DCNs need to be scalable and efficient to connect tens or even hundreds of thousands of servers to handle the growing demands of Cloud computing. \t DCNs need to be scalable and efficient to connect tens or even hundreds of thousands of servers to handle the growing demands of Cloud computing \t scai-qrecc21-naacl-baseline \t 0.9917\n",
      "Can you milk Angora goats? \t Angora mothers have been known to not produce enough milk if they give birth to more than 1. \t Angora mothers have been known to not produce enough milk if they give birth to more than \t scai-qrecc21-naacl-baseline \t 0.9791\n",
      "What is weathering? \t Weathering is the breaking down of rocks, soil, and minerals as well as wood and artificial materials through contact with the Earth's atmosphere, water, and biological organisms. \t Weathering is breaking down rocks, soil, and minerals as well as wood and artificial materials by contacting the atmosphere, water, and biological organisms of the Earth. \t simple_baseline_rewritten \t 0.9641\n",
      "How much space do cattle need? \t Barn space for a cow that weighs 1,000 to 1,300 lb is 20 to 30 square feet, and the cattle have access to a lot. If the cattle do not have access to a lot that is adjacent to the barn, then the space requirement is 35 to 50 square feet per cow. \t Barn space for a cow that weighs 1,000 to 1,300 lb is 20 to 30 square feet, and the cattle \t scai-qrecc21-naacl-baseline \t 0.9527\n",
      "What are the types of 529 plans? \t There are two main types of 529 plans: the college savings plan and the prepaid tuition plan. \t There are two types of 529 plans — savings plans and prepaid tuition plans \t scai-qrecc21-naacl-baseline \t 0.9502\n",
      "What are the functions of lipids. \t The functions of lipids include storing energy, signaling, and acting as structural components of cell membranes. \t Biological functions of lipids include energy storage, cell membrane structural components, and signaling. \t scai-qrecc21-naacl-baseline \t 0.9460\n",
      "What is the first sign of throat cancer? \t Early signs of throat cancer may include: Hoarseness or other change in the voice. Difficulty swallowing or the feeling that something is caught in the throat. \t Early signs of throat cancer may include: Hoarseness or other change in the voice Difficulty swallowing or the feeling that something is caught in the throat Persistent sore throat Ear pain Lump in the neck Cough Breathing problems Unexplained weight loss These symptoms do not always mean you have throat cancer. \t simple_baseline_rewritten \t 0.9410\n",
      "What is the South Pond Nature Area in Ann Arbor? \t South Pond Nature Area. South Pond Nature Area is a 16-acre park located north of Huron River Drive and south of the Gallup Park bike trail, and the railroad tracks. \t ​​South Pond Nature Area is a 16-acre park located north of Huron River Drive and south of the Gallup Park bike trail, and the railroad \t scai-qrecc21-naacl-baseline \t 0.9272\n",
      "What's the difference in throat cancer and esophageal cancer's symptoms? \t Esophageal cancer refers to a malignant tumor of the esophagus. The esophagus is the tube that connects the throat with the stomach. \t  Esophageal cancer is a type of cancer that starts in the esophagus. \t gpt3_run \t 0.9266\n",
      "What is range in statistics? \t The Range is the difference between the lowest and highest values. \t  Range is the difference between the highest and lowest values in a data set. \t gpt3_run \t 0.9254\n",
      "Why is sound a form of mechanical energy? \t Sound is a form of mechanical energy because the source of sound is vibration. Mechanical energy consists of gravitational potential energy and kinetic energy. \t Sound is a form of mechanical energy because the source of sound is vibration \t scai-qrecc21-naacl-baseline \t 0.9223\n",
      "What is throat cancer? \t Throat cancer refers to cancerous tumors that develop in your throat (pharynx), voice box (larynx) or tonsils. \t Throat cancer is a general term that applies to cancer that develops in the throat (pharyngeal cancer) or in the voice box \t scai-qrecc21-naacl-baseline \t 0.9186\n",
      "Describe core, aggregator and edge switches. \t In small networks of a few hundred users, edge switches can be connected redundantly directly to core switch/router devices. However, for larger networks, , an additional layer of switching, called the distribution layer, aggregates the edge switches. \t The Distribution and Aggregation Layer In small networks of a few hundred users, edge switches can be connected redundantly directly to core switch/router devices. \t simple_baseline_rewritten \t 0.9169\n",
      "When is a good season for spotting Orca whales ? \t Orca whales usually pass through the islands in greatest numbers between mid-May and mid-October when the salmon runs are strongest, although it's possible to spot them through the rest of the year. In February, March, April, late October, and November you can see 50% fewer whales than in the summer. \t Orca whales usually pass through the islands in greatest numbers between mid-May and mid-October when the salmon runs are strongest \t scai-qrecc21-naacl-baseline \t 0.9114\n",
      "Tell me about boer goats \t The Boer goat is a breed of goat that was developed in South Africa in the early 1900s for meat production. Their name is derived from the Afrikaans (Dutch) word boer, meaning farmer. \t  Boer goats are a breed of goat that originated in South Africa. \t gpt3_run \t 0.9068\n",
      "What is a 529 plan? \t A 529 plan is a tax-advantaged investment vehicle in the U.S. designed to encourage saving for the future higher education expenses of a designated beneficiary. \t  A 529 plan is a tax-advantaged savings plan that allows you to save for your child's college education. \t gpt3_run \t 0.9030\n",
      "Did the horse Artax really die? \t 22 Vision Fun Fact: Contrary to an Internet rumor, the horse that played Artax did not really die during the filming of the Swamp of Sadness scene. In fact, the horse was actually given to Noah Hathaway after filming as a gift. \t Contrary to an Internet rumor, the horse that played Artax did not really die during the filming of the Swamp of Sadness scene. \t scai-qrecc21-naacl-baseline \t 0.8998\n",
      "What is taurine? \t Taurine is a type of amino acid found in many foods and often added to energy drinks \t  Taurine is an amino acid that is found in many foods. \t gpt3_run \t 0.8995\n",
      "Describe Uranus. \t Uranus (from the Latin name Ūranus for the Greek god Οὐρανός) is the seventh planet from the Sun. It has the third-largest planetary radius and fourth-largest planetary mass in the Solar System. \t  Uranus is a planet in the solar system. It is the seventh planet from the Sun. It is named after the Greek god of the sky, Uranus. \t gpt3_run \t 0.8899\n",
      "In what cuisines is tofu popular? \t Tofu is an extremely popular food throughout almost the all of Asia. Tofu was first used in China over 2000 years ago and experts believe that it's production began sometime during the Han dynasty \t Tofu is an extremely popular food throughout almost the all of Asia \t scai-qrecc21-naacl-baseline \t 0.8753\n"
     ]
    }
   ],
   "source": [
    "#Sort scores in decreasing order\n",
    "ranked_list = sorted(ranked_list, key=lambda x: x['score'], reverse=True)\n",
    "\n",
    "limit = 20\n",
    "for sample in ranked_list[:limit]:\n",
    "    print(\"{} \\t {} \\t {} \\t {} \\t {:.4f}\".format(sample['question'], sample['gt'], sample['predicted'], sample['model'], sample['score']))"
   ]
  },
  {
   "cell_type": "code",
   "execution_count": null,
   "metadata": {},
   "outputs": [],
   "source": []
  }
 ],
 "metadata": {
  "kernelspec": {
   "display_name": "transformers",
   "language": "python",
   "name": "transformers"
  },
  "language_info": {
   "codemirror_mode": {
    "name": "ipython",
    "version": 3
   },
   "file_extension": ".py",
   "mimetype": "text/x-python",
   "name": "python",
   "nbconvert_exporter": "python",
   "pygments_lexer": "ipython3",
   "version": "3.6.10"
  }
 },
 "nbformat": 4,
 "nbformat_minor": 2
}
