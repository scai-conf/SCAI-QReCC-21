{
 "cells": [
  {
   "cell_type": "code",
   "execution_count": 21,
   "metadata": {},
   "outputs": [],
   "source": [
    "# load gt\n",
    "import json\n",
    "\n",
    "path = '../../dataset/qrecc_test.json'\n",
    "\n",
    "with open(path) as f: \n",
    "    data = json.load(f)"
   ]
  },
  {
   "cell_type": "code",
   "execution_count": 55,
   "metadata": {},
   "outputs": [
    {
     "name": "stdout",
     "output_type": "stream",
     "text": [
      "simple_baseline_rewritten.json\n",
      "gpt3_run.json\n",
      "scai-qrecc21-naacl-baseline.json\n",
      "\n",
      " 3 runs loaded\n"
     ]
    }
   ],
   "source": [
    "# load runs to check model answers\n",
    "import os\n",
    "\n",
    "runs = []\n",
    "model_labels = []\n",
    "\n",
    "path = '../../runs/'\n",
    "for filename in os.listdir(path):\n",
    "    with open(path+filename, encoding=\"utf-8\") as f:\n",
    "        print(filename)\n",
    "        run = json.load(f)\n",
    "        runs.append(run)\n",
    "        model_labels.append(filename.split('.')[0])\n",
    "        \n",
    "print('\\n %d runs loaded' % len(runs))"
   ]
  },
  {
   "cell_type": "code",
   "execution_count": 39,
   "metadata": {},
   "outputs": [],
   "source": [
    "# load answer encoder\n",
    "from sentence_transformers import SentenceTransformer, util\n",
    "model = SentenceTransformer('paraphrase-MiniLM-L12-v2')"
   ]
  },
  {
   "cell_type": "code",
   "execution_count": 62,
   "metadata": {},
   "outputs": [
    {
     "name": "stdout",
     "output_type": "stream",
     "text": [
      "['physician assistants are medical providers who are licensed to diagnose and treat illness and disease and to prescribe medication for patients']\n",
      "gpt3_run \t\t  A physician's assistant is a person who assists a physician in the performance of his or her duties. \t\t Score: 0.8473\n",
      "scai-qrecc21-naacl-baseline \t\t Physician assistant \t\t Score: 0.7900\n",
      "simple_baseline_rewritten \t\t The Physician Assistant Board or their representative may require proof or demonstration of competence from any physician assistant for any medical services performed. \t\t Score: 0.6940\n",
      "\n",
      "\n",
      "[\"Complete your bachelor's degree (a science or healthcare related major is usually best); Gain experience either working or volunteering in a healthcare setting; Apply to ARC-PA accredited physician assistant programs; Complete a 2-3 year, master's level PA program;\"]\n",
      "scai-qrecc21-naacl-baseline \t\t a physician assistant will need a master’s degree from an accredited institution (two years of post-graduate education after completing a four-year \t\t Score: 0.6287\n",
      "gpt3_run \t\t  The educational requirements to become a physician's assistant are a high school diploma or equivalent, and completion of a training program approved by the state licensing board. \t\t Score: 0.5624\n",
      "simple_baseline_rewritten \t\t These two medical Read More Articles Educational Requirements for Family Nurse Practitioners admin | April 29, 2013 Before you can embark on your journey to become a family nurse practitioner, there are educational requirements you must attain. \t\t Score: 0.3028\n",
      "\n",
      "\n",
      "['Average Cost Across all PA Schools for the 2017 Application Cycle is as Follows: Average cost of resident tuition for a 27-month physician assistant program is: $71,369. Average cost of non-resident tuition for a 27-month physician assistant program is: $89,975.']\n",
      "gpt3_run \t\t  The cost of becoming a physician's assistant is $1,000. \t\t Score: 0.4909\n",
      "scai-qrecc21-naacl-baseline \t\t In most cases, a physician assistant will need a master’s degree from an accredited institution \t\t Score: 0.3093\n",
      "simple_baseline_rewritten \t\t Pathologists' Assistants interact with pathologists in a manner similar to physician's assistants in surgical and medical practice, carrying out their duties under the direction. \t\t Score: 0.1708\n",
      "\n",
      "\n",
      "['Typical starting salaries for physician associates are between £27,000 and £31,383 (though sometimes less for internships).']\n",
      "scai-qrecc21-naacl-baseline \t\t Bureau of Labor Statistics information for Physician Assistants shows that the median wage reported in 2010 was $86,410 a year \t\t Score: 0.5837\n",
      "gpt3_run \t\t  The average starting salary in the UK is £18,000. \t\t Score: 0.4235\n",
      "simple_baseline_rewritten \t\t This training course could help you to fulfil any of the following job roles: Accounts Assistant (average UK yearly salary: £18,557 / average US yearly salary: $37,809) Bookkeeper (average UK yearly salary: £20,443 / average US yearly salary: $40,743) Administrator (average UK yearly salary: £17,207 / average US yearly salary: $43,623) Payroll Manager (average UK yearly salary: £30,568 / average US yearly salary: $63,767) Payroll Administrator (average UK yearly salary: £30,568 / average US yearly salary: $63,767) Payroll Specialist (average UK yearly salary: £30,568 / average US yearly salary: $63,767) Payroll Clerk (average UK yearly salary: £30,568 / average US yearly salary: $63,767) PLEASE NOTE:we do not provide any software with this course. \t\t Score: 0.4147\n",
      "\n",
      "\n",
      "['An early career Physician Assistant (PA) with 1-4 years of experience earns an average total compensation (includes tips, bonus, and overtime pay) of $91,587 based on 4,392 salaries.']\n",
      "scai-qrecc21-naacl-baseline \t\t Bureau of Labor Statistics information for Physician Assistants shows that the median wage reported in 2010 was $86,410 a year \t\t Score: 0.6229\n",
      "simple_baseline_rewritten \t\t Pathologists' Assistants interact with pathologists in a manner similar to physician's assistants in surgical and medical practice, carrying out their duties under the direction. \t\t Score: 0.3398\n",
      "gpt3_run \t\t  The average starting salary in the US is $30,000. \t\t Score: 0.2005\n",
      "\n",
      "\n"
     ]
    }
   ],
   "source": [
    "limit = 5\n",
    "for i, sample in enumerate(data[:limit]):\n",
    "    # group all answers\n",
    "    gt_answers = [sample['Answer']]\n",
    "    model_answers = []\n",
    "    for j in range(len(runs)):\n",
    "        assert sample['Conversation_no'] == runs[j][i]['Conversation_no'] and sample['Turn_no'] == runs[j][i]['Turn_no']\n",
    "        model_answers.append(runs[j][i]['Model_answer'])\n",
    "    \n",
    "    #Compute embedding for both lists\n",
    "    gt_embeddings = model.encode(gt_answers, convert_to_tensor=True)\n",
    "    model_embeddings = model.encode(model_answers, convert_to_tensor=True)\n",
    "\n",
    "    #Compute cosine-similarits\n",
    "    cosine_scores = util.pytorch_cos_sim(gt_embeddings, model_embeddings)\n",
    "    \n",
    "    #Find the pairs with the highest cosine similarity scores\n",
    "    pairs = []\n",
    "    for i in range(len(cosine_scores)):\n",
    "        for j in range(len(cosine_scores[i])):\n",
    "            pairs.append({'index': [i, j], 'score': cosine_scores[i][j]})\n",
    "    \n",
    "    #Sort scores in decreasing order\n",
    "    pairs = sorted(pairs, key=lambda x: x['score'], reverse=True)\n",
    "    \n",
    "    print(gt_answers)\n",
    "    for pair in pairs[0:10]:\n",
    "        i, j = pair['index']\n",
    "        print(\"{} \\t\\t {} \\t\\t Score: {:.4f}\".format(model_labels[j], model_answers[j], pair['score']))\n",
    "    print('\\n')"
   ]
  },
  {
   "cell_type": "code",
   "execution_count": null,
   "metadata": {},
   "outputs": [],
   "source": []
  }
 ],
 "metadata": {
  "kernelspec": {
   "display_name": "transformers",
   "language": "python",
   "name": "transformers"
  },
  "language_info": {
   "codemirror_mode": {
    "name": "ipython",
    "version": 3
   },
   "file_extension": ".py",
   "mimetype": "text/x-python",
   "name": "python",
   "nbconvert_exporter": "python",
   "pygments_lexer": "ipython3",
   "version": "3.6.10"
  }
 },
 "nbformat": 4,
 "nbformat_minor": 2
}
