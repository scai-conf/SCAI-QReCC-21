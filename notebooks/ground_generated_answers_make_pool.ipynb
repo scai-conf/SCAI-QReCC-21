{
 "cells": [
  {
   "cell_type": "code",
   "execution_count": 1,
   "id": "4ca126fe",
   "metadata": {},
   "outputs": [
    {
     "name": "stdout",
     "output_type": "stream",
     "text": [
      "2078 rows\n",
      "1863 rows\n"
     ]
    }
   ],
   "source": [
    "# load generated answers with plausibility annotations\n",
    "# download file from https://zenodo.org/record/5752542#.Yau-Li8RppQ\n",
    "import pandas as pd\n",
    "\n",
    "df = pd.read_csv('answer_plausibility_annotations_clean_without_disagreements.csv')\n",
    "print(len(df), 'rows')\n",
    "\n",
    "# subset of all plausible answers\n",
    "df_plausible = df[df['Annotation']=='Plausible']\n",
    "print(len(df_plausible), 'rows')"
   ]
  },
  {
   "cell_type": "code",
   "execution_count": 2,
   "id": "6ecf4317",
   "metadata": {},
   "outputs": [
    {
     "name": "stdout",
     "output_type": "stream",
     "text": [
      "8456 questions with at least one retrieved passage\n"
     ]
    }
   ],
   "source": [
    "# get annotated passages for grounding\n",
    "import sys\n",
    "from collections import defaultdict\n",
    "\n",
    "import csv\n",
    "import codecs\n",
    "\n",
    "csv.field_size_limit(sys.maxsize)\n",
    "\n",
    "path = '../annotation-passage-retrieval/'\n",
    "\n",
    "passages = defaultdict(list)\n",
    "\n",
    "\n",
    "with codecs.open(path+'passages-ground-truth.tsv', 'r', 'utf-8') as tsv_file:\n",
    "    tsv_lines = csv.reader(tsv_file, delimiter='\\t')\n",
    "    for i, tsv_line in enumerate(tsv_lines):\n",
    "        turn_id, p_id, passage = tsv_line\n",
    "        if [p_id, passage] not in passages[turn_id]:\n",
    "            passages[turn_id].append([p_id, passage])\n",
    "\n",
    "with codecs.open(path+'passages-batches-0-X-plausible.tsv', 'r', 'utf-8') as tsv_file:\n",
    "    tsv_lines = csv.reader(tsv_file, delimiter='\\t')\n",
    "    for i, tsv_line in enumerate(tsv_lines):\n",
    "        turn_id, p_id, passage = tsv_line\n",
    "        if [p_id, passage] not in passages[turn_id]:\n",
    "            passages[turn_id].append([p_id, passage])\n",
    "\n",
    "print(len(passages), 'questions with at least one retrieved passage')"
   ]
  },
  {
   "cell_type": "code",
   "execution_count": 30,
   "id": "7f749269",
   "metadata": {},
   "outputs": [
    {
     "name": "stderr",
     "output_type": "stream",
     "text": [
      "[nltk_data] Downloading package punkt to /Users/sv/nltk_data...\n",
      "[nltk_data]   Unzipping tokenizers/punkt.zip.\n"
     ]
    },
    {
     "data": {
      "text/plain": [
       "True"
      ]
     },
     "execution_count": 30,
     "metadata": {},
     "output_type": "execute_result"
    }
   ],
   "source": [
    "# import nltk\n",
    "# nltk.download('punkt')"
   ]
  },
  {
   "cell_type": "code",
   "execution_count": 32,
   "id": "fa1a42ea",
   "metadata": {},
   "outputs": [
    {
     "name": "stdout",
     "output_type": "stream",
     "text": [
      "A physician assistant is a person who has successfully completed an accredited education program for physician assistant, is licensed by the state and is practicing within the scope of that license.\n",
      "A physician's assistant (PA) is a medical assistant who works under the supervision of a physician and is licensed to practice medicine in the state in which the patient resides.\n",
      "A physician's assistant (PA) is a medical assistant.\n",
      "A physician's assistant is a person who assists a physician in the performance of his or her duties.\n",
      "A physician's assistant (PA) is a medical assistant who works for a supervising physician who is responsible for patients, cared for by the physician assistant.\n",
      "A physician assistant is a medical professional who assists a doctor in the diagnosis and treatment of a patient.\n",
      "A physician's assistant is a medical assistant.\n",
      "A physician's assistant is a medical professional who provides medical care to patients.\n",
      "A physician's assistant (PA) is a medical professional who provides medical care for patients.\n",
      "A physician's assistant is a person who assists a physician in the administration of medical procedures.\n",
      "A physician's assistant (PA) is a medical assistant who works under the direct supervision of a physician and is licensed to practice medicine in the state in which the patient resides.\n"
     ]
    }
   ],
   "source": [
    "# find extractive answers that are close to the original passage text\n",
    "# iterate over samples and extract spans (ground answers)\n",
    "import json\n",
    "import nltk\n",
    "from span_heuristic import find_closest_span_match\n",
    "\n",
    "RELEVANCE_THRESHOLD = 0.8\n",
    "\n",
    "# load human answers\n",
    "answers = {}\n",
    "with open('./generated_evidence.tsv', 'w') as fout: \n",
    "    for index, row in df_plausible.iterrows():\n",
    "        question_id = row['Input.id']\n",
    "        answer = row['Input.predicted']\n",
    "        rewrite = row['Input.question']\n",
    "        model = row['Input.model']\n",
    "        retrieved_passages = passages[question_id]\n",
    "        \n",
    "        if question_id != '1_1':\n",
    "            continue\n",
    "        \n",
    "        if question_id not in answers:\n",
    "            answers[question_id] = {'generated': [], 'extracted': []}\n",
    "        if answer not in answers[question_id]['generated']:\n",
    "            answers[question_id]['generated'].append(answer)\n",
    "        \n",
    "        # look for best ground for this candidate answer across all retrieved passages\n",
    "        best_score = 0\n",
    "        for p_id, passage in retrieved_passages:\n",
    "            best_span, precontext, postcontext, diff, best_f1 = find_closest_span_match(passage, answer, \n",
    "                                                                                        pad=10, context_window=200)\n",
    "            if best_f1 >= best_score:\n",
    "                result = (best_span, precontext, postcontext, diff, best_f1)\n",
    "                best_score = best_f1\n",
    "#             if best_f1 >= RELEVANCE_THRESHOLD:\n",
    "#             if question_id == '201_1':\n",
    "        best_span, precontext, postcontext, diff, best_f1 = result\n",
    "        print(answer)\n",
    "        \n",
    "        # trim precontext if available\n",
    "        if precontext:\n",
    "            precontext = precontext.split('.', 1)[-1].lstrip()\n",
    "        \n",
    "        # cut postcontenxt to the last .\n",
    "        postcontext = postcontext.rsplit('.', 1)[0] + '.'\n",
    "\n",
    "        evidence = precontext + best_span + postcontext\n",
    "        sent_text = nltk.sent_tokenize(evidence) # this gives us a list of sentences\n",
    "\n",
    "        for s in sent_text:\n",
    "            if s not in answers[question_id]['extracted']:\n",
    "                answers[question_id]['extracted'].append(s)\n",
    "        \n",
    "#         print(best_f1, '\\n')\n",
    "#         fout.write('\\t'.join([question_id, rewrite,\n",
    "#                               model, answer, str(len(answer)),\n",
    "#                               p_id, best_span, precontext, postcontext,\n",
    "#                               str(diff), str(len(diff)), str(best_f1)]) + '\\n')\n",
    "#         break"
   ]
  },
  {
   "cell_type": "code",
   "execution_count": 33,
   "id": "10f2de58",
   "metadata": {},
   "outputs": [
    {
     "name": "stdout",
     "output_type": "stream",
     "text": [
      "Also we’ve found the top three ranked university programs for aspiring physician assistants.\n",
      "What Is a PA?\n",
      "A physician assistant is a certified and state-licensed healthcare professional who works as part of a physician’s team.\n",
      "This definition is courtesy of the American Academy of Physician Assistants (AAPA).\n",
      "A licensed PA can independently practice medicine and provide treatment for patients nationally.\n",
      "- .\n",
      "�The Physician Assistant.\n",
      "will: Assist in the evaluation of the surgical patient in the ED, inpatient... as a Physician Assistant by the State of New York Department of Education Board Certified by the National...\n",
      "\" What is the working relationship between a physician and a physician assistant?\n",
      "The relationship between a PA and the supervising physician is one of mutual trust and respect.\n",
      "The physician assistant is a representative of the physician, treating the patient in the style and manner developed and directed by the supervising physician.\n",
      "The physician and PA practice as members of a medical team.\n",
      "Regulatory Requirements: A physician assistant may provide medical services, which are delegated in writing by a supervising physician who is responsible for patients, cared for by the physician assistant.\n",
      "The physician assistant may only provide services which he or she is competent to perform, which are consistent with their education, training and experience, and which are delegated by the supervising physician.\n",
      "The Nurse Practitioner/Physician Assistant will be working in regular family care... ASSISTANT MANAGER INSTRUMENT ROOM Montefiore Medical Center - The Bronx, NY - relates to volume, physician needs, and promoting the delivery of quality patient care in the O.R...\n",
      "Physician Assistant Private Practice - Wellsville, NY - Full Time Physician Assistant needed for a Private Outpatient Primary Care Clinic Mainly Adult...\n",
      "ant medical office manager phlebotomist emergency medical technician hospital orderly anesthesiologist Medical Assistant Training books Front Office Skills for the Medical Assistant » Kinn's Clinical Medical Assistant » Physician Assistant » Student Activity Manual » Kinn's The Medical Assistant » Kinn's The Administrative Medical Assistant » Veterinary Medical Team » CPT Assistant Archives 1990-2009 » Daviss Physician Assistant » Lange .\n",
      "540.\n",
      "The DSA is the foundation of the relationship between a supervising physician and the physician assistant, and specifies the names of the supervising physicians and what types of medical services the physician assistant is allowed to perform, how they are performed, how the patient charts will be reviewed and countersigned, and what type of medications the physician assistant will transmit on behalf of the supervising physician.\n"
     ]
    }
   ],
   "source": [
    "for a in answers['1_1']['extracted']:\n",
    "    print(a)"
   ]
  },
  {
   "cell_type": "code",
   "execution_count": 34,
   "id": "66cbeab7",
   "metadata": {},
   "outputs": [],
   "source": [
    "# filter extracted sentences with the sas score\n",
    "from typing import List, Tuple, Dict, Any, Optional\n",
    "\n",
    "import numpy as np\n",
    "from sklearn.metrics.pairwise import cosine_similarity\n",
    "\n",
    "from transformers import AutoConfig\n",
    "from sentence_transformers import SentenceTransformer, CrossEncoder\n",
    "\n",
    "\n",
    "def semantic_answer_similarity(predictions: List[List[str]],\n",
    "                               gold_labels: List[List[str]],\n",
    "                               sas_model_name_or_path: str = \"cross-encoder/stsb-roberta-large\"\n",
    "#                                sas_model_name_or_path: str = \"sentence-transformers/paraphrase-multilingual-mpnet-base-v2\"\n",
    "                               ) -> Tuple[List[float],List[float]]:\n",
    "    \"\"\"\n",
    "    Computes Transformer-based similarity of predicted answer to gold labels to derive a more meaningful metric than EM or F1.\n",
    "    :param predictions: Predicted answers as list of multiple preds per question\n",
    "    :param gold_labels: Labels as list of multiple possible answers per question\n",
    "    :param sas_model_name_or_path: SentenceTransformers semantic textual similarity model, should be path or string\n",
    "                                     pointing to downloadable models.\n",
    "    \"\"\"\n",
    "    assert len(predictions) == len(gold_labels)\n",
    "\n",
    "    config = AutoConfig.from_pretrained(sas_model_name_or_path)\n",
    "    cross_encoder_used = False\n",
    "    if config.architectures is not None:\n",
    "        cross_encoder_used = any([arch.endswith('ForSequenceClassification') for arch in config.architectures])\n",
    "\n",
    "    # Compute similarities\n",
    "    top_1_sas = []\n",
    "    top_k_sas = []\n",
    "\n",
    "    # Based on Modelstring we can load either Bi-Encoders or Cross Encoders.\n",
    "    # Similarity computation changes for both approaches\n",
    "    if cross_encoder_used:\n",
    "        model = CrossEncoder(sas_model_name_or_path)\n",
    "        for preds, labels in zip (predictions, gold_labels):\n",
    "            # TODO add efficient batch mode: put all texts and labels into grid and extract scores afterwards\n",
    "            grid = []\n",
    "            for p in preds:\n",
    "                for l in labels:\n",
    "                    grid.append((p,l))\n",
    "            scores = model.predict(grid)\n",
    "#             top_1_sas.append(np.max(scores[:len(labels)]))\n",
    "#             top_k_sas.append(np.max(scores))\n",
    "    else:\n",
    "        # For Bi-encoders we can flatten predictions and labels into one list\n",
    "        model = SentenceTransformer(sas_model_name_or_path)\n",
    "        lengths: List[Tuple[int,int]] = []\n",
    "        all_texts: List[str] = []\n",
    "        for p, l in zip(predictions, gold_labels):                                  # type: ignore\n",
    "            # TODO potentially exclude (near) exact matches from computations\n",
    "            all_texts.extend(p)\n",
    "            all_texts.extend(l)\n",
    "            lengths.append((len(p), len(l)))\n",
    "        # then compute embeddings\n",
    "        embeddings = model.encode(all_texts)\n",
    "\n",
    "        # then select which embeddings will be used for similarity computations\n",
    "        current_position = 0\n",
    "        for i, (len_p, len_l) in enumerate(lengths):\n",
    "            pred_embeddings = embeddings[current_position:current_position + len_p, :]\n",
    "            current_position += len_p\n",
    "            label_embeddings = embeddings[current_position:current_position + len_l, :]\n",
    "            current_position += len_l\n",
    "            scores = cosine_similarity(pred_embeddings, label_embeddings)\n",
    "\n",
    "    return scores"
   ]
  },
  {
   "cell_type": "code",
   "execution_count": 35,
   "id": "84147c6e",
   "metadata": {},
   "outputs": [],
   "source": [
    "# get extracted spans that are similar to the generated answers\n",
    "scores = semantic_answer_similarity([answers['1_1']['extracted']], [answers['1_1']['generated']])"
   ]
  },
  {
   "cell_type": "code",
   "execution_count": 36,
   "id": "0cddb5b8",
   "metadata": {},
   "outputs": [
    {
     "name": "stdout",
     "output_type": "stream",
     "text": [
      "209\n"
     ]
    }
   ],
   "source": [
    "print(len(scores))"
   ]
  },
  {
   "cell_type": "code",
   "execution_count": 39,
   "id": "01024755",
   "metadata": {},
   "outputs": [],
   "source": [
    "scored_answers = [scores[i:i + len(answers['1_1']['generated'])] for i in range(0, len(scores), len(answers['1_1']['generated']))]"
   ]
  },
  {
   "cell_type": "code",
   "execution_count": 42,
   "id": "29853e87",
   "metadata": {},
   "outputs": [
    {
     "name": "stdout",
     "output_type": "stream",
     "text": [
      "A physician assistant is a certified and state-licensed healthcare professional who works as part of a physician’s team.\n",
      "A licensed PA can independently practice medicine and provide treatment for patients nationally.\n",
      "�The Physician Assistant.\n",
      "The physician assistant is a representative of the physician, treating the patient in the style and manner developed and directed by the supervising physician.\n",
      "Regulatory Requirements: A physician assistant may provide medical services, which are delegated in writing by a supervising physician who is responsible for patients, cared for by the physician assistant.\n"
     ]
    }
   ],
   "source": [
    "th = 0.8\n",
    "for i, s in enumerate(scored_answers):\n",
    "#     print(max(s))\n",
    "    if max(s) > th:\n",
    "        print(answers['1_1']['extracted'][i])"
   ]
  },
  {
   "cell_type": "code",
   "execution_count": null,
   "id": "65c72ad7",
   "metadata": {},
   "outputs": [],
   "source": []
  }
 ],
 "metadata": {
  "kernelspec": {
   "display_name": "qrecc",
   "language": "python",
   "name": "qrecc"
  },
  "language_info": {
   "codemirror_mode": {
    "name": "ipython",
    "version": 3
   },
   "file_extension": ".py",
   "mimetype": "text/x-python",
   "name": "python",
   "nbconvert_exporter": "python",
   "pygments_lexer": "ipython3",
   "version": "3.7.11"
  }
 },
 "nbformat": 4,
 "nbformat_minor": 5
}
