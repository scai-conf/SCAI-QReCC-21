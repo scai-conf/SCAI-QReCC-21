{
 "cells": [
  {
   "cell_type": "code",
   "execution_count": 1,
   "id": "621fb68f",
   "metadata": {},
   "outputs": [],
   "source": [
    "# load the original qrecc test set with human answers\n",
    "import json\n",
    "\n",
    "path = '../dataset/qrecc-test.json'\n",
    "\n",
    "with open(path) as f: \n",
    "    data = json.load(f)"
   ]
  },
  {
   "cell_type": "code",
   "execution_count": 2,
   "id": "df5ebb30",
   "metadata": {},
   "outputs": [
    {
     "name": "stdout",
     "output_type": "stream",
     "text": [
      "13352 grounding sentences\n",
      "6991 questions grounded\n"
     ]
    }
   ],
   "source": [
    "# load evidence spans and passage ids for human answers\n",
    "import pandas as pd\n",
    "from collections import defaultdict\n",
    "\n",
    "df = pd.read_csv('../annotations/human_evidence.csv', sep=';')\n",
    "print(len(df), 'grounding sentences')\n",
    "\n",
    "evidence = defaultdict(dict)\n",
    "for index, row in df.iterrows():\n",
    "    question_id = row['id']\n",
    "    if row['pid'] not in evidence[question_id]:\n",
    "        evidence[question_id][row['pid']] = []\n",
    "    if row['predicted'] not in evidence[question_id][row['pid']]:\n",
    "        evidence[question_id][row['pid']].append(row['predicted'])\n",
    "print(len(evidence), 'questions grounded')"
   ]
  },
  {
   "cell_type": "code",
   "execution_count": 3,
   "id": "53499ea0",
   "metadata": {},
   "outputs": [
    {
     "name": "stdout",
     "output_type": "stream",
     "text": [
      "386 answers\n",
      "192 answers\n",
      "21 answers\n",
      "156 questions with correct answers\n",
      "20 questions with incorrect answers\n"
     ]
    }
   ],
   "source": [
    "# load (un)faithful generated answers and plausible extracted spans\n",
    "correct_answers = defaultdict(list)\n",
    "df = pd.read_csv('../annotations/faithful_answers.csv')\n",
    "print(len(df), 'answers')\n",
    "for index, row in df.iterrows():\n",
    "    answer = row['Input.answer']\n",
    "    if answer not in correct_answers[row['Input.id']]:\n",
    "        correct_answers[row['Input.id']].append(answer)\n",
    "        \n",
    "df = pd.read_csv('../annotations/plausible_spans.csv')\n",
    "print(len(df), 'answers')\n",
    "for index, row in df.iterrows():\n",
    "    answer = row['Input.predicted']\n",
    "    if answer not in correct_answers[row['Input.id']]:\n",
    "        correct_answers[row['Input.id']].append(answer)\n",
    "        \n",
    "incorrect_answers = defaultdict(list)\n",
    "df = pd.read_csv('../annotations/unfaithful_answers.csv')\n",
    "print(len(df), 'answers')\n",
    "for index, row in df.iterrows():\n",
    "    answer = row['Input.answer']\n",
    "    if answer not in incorrect_answers[row['Input.id']]:\n",
    "        incorrect_answers[row['Input.id']].append(answer)\n",
    "\n",
    "print(len(correct_answers), 'questions with correct answers')\n",
    "print(len(incorrect_answers), 'questions with incorrect answers')"
   ]
  },
  {
   "cell_type": "code",
   "execution_count": 4,
   "id": "b414c6f7",
   "metadata": {},
   "outputs": [
    {
     "name": "stdout",
     "output_type": "stream",
     "text": [
      "242 grounding sentences\n",
      "7044 questions grounded\n"
     ]
    }
   ],
   "source": [
    "# load evidence spans and passage ids for generated answers\n",
    "df = pd.read_csv('../annotations/extracted_answers.csv')\n",
    "print(len(df), 'grounding sentences')\n",
    "\n",
    "# evidence = defaultdict(dict)\n",
    "for index, row in df.iterrows():\n",
    "    question_id = row['id']\n",
    "    if row['pid'] not in evidence[question_id]:\n",
    "        evidence[question_id][row['pid']] = []\n",
    "    if row['predicted'] not in evidence[question_id][row['pid']]:\n",
    "        evidence[question_id][row['pid']].append(row['predicted'])\n",
    "print(len(evidence), 'questions grounded')"
   ]
  },
  {
   "cell_type": "code",
   "execution_count": 5,
   "id": "7d6ab60f",
   "metadata": {},
   "outputs": [
    {
     "data": {
      "text/plain": [
       "{'http://web.archive.org/web/20200523205052id_/https://www.bhf.org.uk/informationsupport/heart-matters-magazine/medical/ask-the-experts/atrial-flutter_p9': ['In atrial fibrillation, the atria beat irregularly. In atrial flutter, the atria beat regularly, but faster than usual and more often than the ventricles, so you may have four atrial beats to every',\n",
       "  'Atrial flutter is less common than atrial fibrillation Atrial flutter is less common, but has similar symptoms (feeling faint, tiredness, palpitations, shortness of breath or dizziness).']}"
      ]
     },
     "execution_count": 5,
     "metadata": {},
     "output_type": "execute_result"
    }
   ],
   "source": [
    "evidence[\"3_6\"]"
   ]
  },
  {
   "cell_type": "code",
   "execution_count": 6,
   "id": "2d7af5bc",
   "metadata": {},
   "outputs": [],
   "source": [
    "import json\n",
    "\n",
    "scai_qrecc = []\n",
    "for sample in data:\n",
    "    question_id = \"%s_%s\" % (sample[\"Conversation_no\"], sample[\"Turn_no\"])\n",
    "    rewrite = sample['Rewrite']\n",
    "    human_answer = sample['Answer']\n",
    "    if correct_answers[question_id] or evidence[question_id]:\n",
    "        sample = {'ID': question_id,\n",
    "                  'Question': sample['Rewrite'],\n",
    "                  'Answers': [sample['Answer']] + correct_answers[question_id],\n",
    "                  'Evidence': evidence[question_id]\n",
    "                 }\n",
    "        scai_qrecc.append(sample)\n",
    "#         break\n",
    "\n",
    "with open('../dataset/scai_qrecc.json', 'w', encoding='utf-8') as f:\n",
    "    json.dump(scai_qrecc, f, ensure_ascii=False, indent=4)"
   ]
  },
  {
   "cell_type": "code",
   "execution_count": null,
   "id": "086408b9",
   "metadata": {},
   "outputs": [],
   "source": []
  }
 ],
 "metadata": {
  "kernelspec": {
   "display_name": "qrecc",
   "language": "python",
   "name": "qrecc"
  },
  "language_info": {
   "codemirror_mode": {
    "name": "ipython",
    "version": 3
   },
   "file_extension": ".py",
   "mimetype": "text/x-python",
   "name": "python",
   "nbconvert_exporter": "python",
   "pygments_lexer": "ipython3",
   "version": "3.7.11"
  }
 },
 "nbformat": 4,
 "nbformat_minor": 5
}
