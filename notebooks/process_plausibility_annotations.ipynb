{
 "cells": [
  {
   "cell_type": "code",
   "execution_count": 31,
   "id": "ff690a32",
   "metadata": {},
   "outputs": [
    {
     "name": "stdout",
     "output_type": "stream",
     "text": [
      "5507 rows\n"
     ]
    }
   ],
   "source": [
    "# load plausibility annotations\n",
    "# download file from https://zenodo.org/record/5752542#.Yau-Li8RppQ\n",
    "import pandas as pd\n",
    "\n",
    "df = pd.read_csv('../annotations/answer_plausibility_annotations_original.csv')\n",
    "# print(df.head())\n",
    "print(len(df), 'rows')"
   ]
  },
  {
   "cell_type": "code",
   "execution_count": 32,
   "id": "714d00ab",
   "metadata": {},
   "outputs": [
    {
     "name": "stdout",
     "output_type": "stream",
     "text": [
      "5387 rows\n"
     ]
    }
   ],
   "source": [
    "# remove all rows where Approve==\"random answer\" ie classified as invalid judgements\n",
    "# which means the worker's answer was rejected by the quality control evaluator\n",
    "df = df[df.Approve != \"random answer\"]\n",
    "print(len(df), 'rows')"
   ]
  },
  {
   "cell_type": "code",
   "execution_count": 33,
   "id": "a407f8ce",
   "metadata": {},
   "outputs": [
    {
     "name": "stdout",
     "output_type": "stream",
     "text": [
      "5317 rows\n"
     ]
    }
   ],
   "source": [
    "# remove rows with the answers that were not judged as \"correct answer\" by the quality control evaluator\n",
    "remove_answers = set(df[df.Approve == \"correct answer\"][\"Input.predicted\"])\n",
    "# filter out by those ids and not marked as correct\n",
    "df = df[~((df['Input.predicted'].isin(remove_answers)) & (df.Approve!=\"correct answer\"))]\n",
    "print(len(df), 'rows')"
   ]
  },
  {
   "cell_type": "code",
   "execution_count": 34,
   "id": "3cf3ca9f",
   "metadata": {},
   "outputs": [
    {
     "name": "stdout",
     "output_type": "stream",
     "text": [
      "5015 rows\n"
     ]
    }
   ],
   "source": [
    "# remove all samples where at least one of the rows was marked as \"confusing answer\"\n",
    "# which means that the sample is hard to decide upon as judged by the quality control evaluator\n",
    "remove_answers = df[df.Approve == \"confusing answer\"][\"Input.predicted\"]\n",
    "df = df[~df['Input.predicted'].isin(remove_answers)]\n",
    "print(len(df), 'rows')"
   ]
  },
  {
   "cell_type": "code",
   "execution_count": 35,
   "id": "ca60315e",
   "metadata": {},
   "outputs": [
    {
     "data": {
      "text/html": [
       "<div>\n",
       "<style scoped>\n",
       "    .dataframe tbody tr th:only-of-type {\n",
       "        vertical-align: middle;\n",
       "    }\n",
       "\n",
       "    .dataframe tbody tr th {\n",
       "        vertical-align: top;\n",
       "    }\n",
       "\n",
       "    .dataframe thead th {\n",
       "        text-align: right;\n",
       "    }\n",
       "</style>\n",
       "<table border=\"1\" class=\"dataframe\">\n",
       "  <thead>\n",
       "    <tr style=\"text-align: right;\">\n",
       "      <th></th>\n",
       "      <th>WorkTimeInSeconds</th>\n",
       "      <th>Input.id</th>\n",
       "      <th>Input.question</th>\n",
       "      <th>Input.predicted</th>\n",
       "      <th>Input.model</th>\n",
       "      <th>Answer.comments</th>\n",
       "      <th>Approve</th>\n",
       "      <th>Annotation</th>\n",
       "    </tr>\n",
       "  </thead>\n",
       "  <tbody>\n",
       "    <tr>\n",
       "      <th>0</th>\n",
       "      <td>18</td>\n",
       "      <td>1_1</td>\n",
       "      <td>What is a physician's assistant?</td>\n",
       "      <td>A physician assistant is a person who has succ...</td>\n",
       "      <td>ultron-scai-qrecc21-test-dataset-rewritten-202...</td>\n",
       "      <td>NICE</td>\n",
       "      <td>NaN</td>\n",
       "      <td>Plausible</td>\n",
       "    </tr>\n",
       "    <tr>\n",
       "      <th>1</th>\n",
       "      <td>20</td>\n",
       "      <td>1_1</td>\n",
       "      <td>What is a physician's assistant?</td>\n",
       "      <td>A physician's assistant (PA) is a medical assi...</td>\n",
       "      <td>rachael-scai-qrecc21-test-dataset-rewritten-20...</td>\n",
       "      <td>NaN</td>\n",
       "      <td>NaN</td>\n",
       "      <td>Plausible</td>\n",
       "    </tr>\n",
       "    <tr>\n",
       "      <th>2</th>\n",
       "      <td>83</td>\n",
       "      <td>1_1</td>\n",
       "      <td>What is a physician's assistant?</td>\n",
       "      <td>A physician's assistant (PA) is a medical assi...</td>\n",
       "      <td>rachael-scai-qrecc21-test-dataset-2021-07-20-r...</td>\n",
       "      <td>NaN</td>\n",
       "      <td>NaN</td>\n",
       "      <td>Plausible</td>\n",
       "    </tr>\n",
       "    <tr>\n",
       "      <th>3</th>\n",
       "      <td>31</td>\n",
       "      <td>1_1</td>\n",
       "      <td>What is a physician's assistant?</td>\n",
       "      <td>A physician's assistant is a person who assist...</td>\n",
       "      <td>gpt3-scai-qrecc21-test-dataset-2021-07-20-scai...</td>\n",
       "      <td>It is very interesting to the survey.</td>\n",
       "      <td>NaN</td>\n",
       "      <td>Plausible</td>\n",
       "    </tr>\n",
       "    <tr>\n",
       "      <th>4</th>\n",
       "      <td>56</td>\n",
       "      <td>1_1</td>\n",
       "      <td>What is a physician's assistant?</td>\n",
       "      <td>A physician's assistant (PA) is a medical assi...</td>\n",
       "      <td>rachael-scai-qrecc21-test-dataset-rewritten-20...</td>\n",
       "      <td>It's really interesting</td>\n",
       "      <td>NaN</td>\n",
       "      <td>Plausible</td>\n",
       "    </tr>\n",
       "    <tr>\n",
       "      <th>...</th>\n",
       "      <td>...</td>\n",
       "      <td>...</td>\n",
       "      <td>...</td>\n",
       "      <td>...</td>\n",
       "      <td>...</td>\n",
       "      <td>...</td>\n",
       "      <td>...</td>\n",
       "      <td>...</td>\n",
       "    </tr>\n",
       "    <tr>\n",
       "      <th>5502</th>\n",
       "      <td>19</td>\n",
       "      <td>99_5</td>\n",
       "      <td>Was Glamazon a nickname for Beth Phoenix?</td>\n",
       "      <td>glamazon is so-named because of beth phoenix's...</td>\n",
       "      <td>ultron-scai-qrecc21-test-dataset-rewritten-202...</td>\n",
       "      <td>NaN</td>\n",
       "      <td>NaN</td>\n",
       "      <td>Plausible</td>\n",
       "    </tr>\n",
       "    <tr>\n",
       "      <th>5503</th>\n",
       "      <td>25</td>\n",
       "      <td>99_5</td>\n",
       "      <td>Was Glamazon a nickname for Beth Phoenix?</td>\n",
       "      <td>Beth Phoenix's nickname was Glamazon.</td>\n",
       "      <td>rachael-scai-qrecc21-test-dataset-2021-07-20-r...</td>\n",
       "      <td>NaN</td>\n",
       "      <td>NaN</td>\n",
       "      <td>Plausible</td>\n",
       "    </tr>\n",
       "    <tr>\n",
       "      <th>5504</th>\n",
       "      <td>19</td>\n",
       "      <td>99_5</td>\n",
       "      <td>Was Glamazon a nickname for Beth Phoenix?</td>\n",
       "      <td>Beth Phoenix's nickname was Glamazon.</td>\n",
       "      <td>rachael-scai-qrecc21-test-dataset-2021-07-20-r...</td>\n",
       "      <td>NaN</td>\n",
       "      <td>NaN</td>\n",
       "      <td>Plausible</td>\n",
       "    </tr>\n",
       "    <tr>\n",
       "      <th>5505</th>\n",
       "      <td>7</td>\n",
       "      <td>99_5</td>\n",
       "      <td>Was Glamazon a nickname for Beth Phoenix?</td>\n",
       "      <td>Glamazon was a nickname for Beth Phoenix, whic...</td>\n",
       "      <td>torch-scai-qrecc21-test-dataset-2021-07-20-tor...</td>\n",
       "      <td>NaN</td>\n",
       "      <td>NaN</td>\n",
       "      <td>Plausible</td>\n",
       "    </tr>\n",
       "    <tr>\n",
       "      <th>5506</th>\n",
       "      <td>8</td>\n",
       "      <td>99_5</td>\n",
       "      <td>Was Glamazon a nickname for Beth Phoenix?</td>\n",
       "      <td>Glamazon was a nickname for Beth Phoenix, whic...</td>\n",
       "      <td>torch-scai-qrecc21-test-dataset-2021-07-20-tor...</td>\n",
       "      <td>NaN</td>\n",
       "      <td>NaN</td>\n",
       "      <td>Plausible</td>\n",
       "    </tr>\n",
       "  </tbody>\n",
       "</table>\n",
       "<p>5015 rows × 8 columns</p>\n",
       "</div>"
      ],
      "text/plain": [
       "      WorkTimeInSeconds Input.id                             Input.question  \\\n",
       "0                    18      1_1           What is a physician's assistant?   \n",
       "1                    20      1_1           What is a physician's assistant?   \n",
       "2                    83      1_1           What is a physician's assistant?   \n",
       "3                    31      1_1           What is a physician's assistant?   \n",
       "4                    56      1_1           What is a physician's assistant?   \n",
       "...                 ...      ...                                        ...   \n",
       "5502                 19     99_5  Was Glamazon a nickname for Beth Phoenix?   \n",
       "5503                 25     99_5  Was Glamazon a nickname for Beth Phoenix?   \n",
       "5504                 19     99_5  Was Glamazon a nickname for Beth Phoenix?   \n",
       "5505                  7     99_5  Was Glamazon a nickname for Beth Phoenix?   \n",
       "5506                  8     99_5  Was Glamazon a nickname for Beth Phoenix?   \n",
       "\n",
       "                                        Input.predicted  \\\n",
       "0     A physician assistant is a person who has succ...   \n",
       "1     A physician's assistant (PA) is a medical assi...   \n",
       "2     A physician's assistant (PA) is a medical assi...   \n",
       "3     A physician's assistant is a person who assist...   \n",
       "4     A physician's assistant (PA) is a medical assi...   \n",
       "...                                                 ...   \n",
       "5502  glamazon is so-named because of beth phoenix's...   \n",
       "5503              Beth Phoenix's nickname was Glamazon.   \n",
       "5504              Beth Phoenix's nickname was Glamazon.   \n",
       "5505  Glamazon was a nickname for Beth Phoenix, whic...   \n",
       "5506  Glamazon was a nickname for Beth Phoenix, whic...   \n",
       "\n",
       "                                            Input.model  \\\n",
       "0     ultron-scai-qrecc21-test-dataset-rewritten-202...   \n",
       "1     rachael-scai-qrecc21-test-dataset-rewritten-20...   \n",
       "2     rachael-scai-qrecc21-test-dataset-2021-07-20-r...   \n",
       "3     gpt3-scai-qrecc21-test-dataset-2021-07-20-scai...   \n",
       "4     rachael-scai-qrecc21-test-dataset-rewritten-20...   \n",
       "...                                                 ...   \n",
       "5502  ultron-scai-qrecc21-test-dataset-rewritten-202...   \n",
       "5503  rachael-scai-qrecc21-test-dataset-2021-07-20-r...   \n",
       "5504  rachael-scai-qrecc21-test-dataset-2021-07-20-r...   \n",
       "5505  torch-scai-qrecc21-test-dataset-2021-07-20-tor...   \n",
       "5506  torch-scai-qrecc21-test-dataset-2021-07-20-tor...   \n",
       "\n",
       "                            Answer.comments Approve Annotation  \n",
       "0                                      NICE     NaN  Plausible  \n",
       "1                                       NaN     NaN  Plausible  \n",
       "2                                       NaN     NaN  Plausible  \n",
       "3     It is very interesting to the survey.     NaN  Plausible  \n",
       "4                   It's really interesting     NaN  Plausible  \n",
       "...                                     ...     ...        ...  \n",
       "5502                                    NaN     NaN  Plausible  \n",
       "5503                                    NaN     NaN  Plausible  \n",
       "5504                                    NaN     NaN  Plausible  \n",
       "5505                                    NaN     NaN  Plausible  \n",
       "5506                                    NaN     NaN  Plausible  \n",
       "\n",
       "[5015 rows x 8 columns]"
      ]
     },
     "execution_count": 35,
     "metadata": {},
     "output_type": "execute_result"
    }
   ],
   "source": [
    "# replace the radio button results with a single column\n",
    "df.loc[df['Answer.answer.on'] == True, 'Annotation'] = 'Plausible'\n",
    "df.loc[df['Answer.noanswer.on'] == True, 'Annotation'] = 'Implausible'\n",
    "df.loc[df['Answer.malformed.on'] == True, 'Annotation'] = 'Malformed'\n",
    "# drop old columns\n",
    "df = df.drop(['Answer.answer.on', 'Answer.noanswer.on', 'Answer.malformed.on', 'Reject'], axis = 1)\n",
    "df"
   ]
  },
  {
   "cell_type": "code",
   "execution_count": 46,
   "id": "ba82eabb",
   "metadata": {},
   "outputs": [
    {
     "name": "stdout",
     "output_type": "stream",
     "text": [
      "14\n"
     ]
    },
    {
     "data": {
      "text/plain": [
       "2078"
      ]
     },
     "execution_count": 46,
     "metadata": {},
     "output_type": "execute_result"
    }
   ],
   "source": [
    "# mark all malformed answer judged by the quality evaluator by ids\n",
    "malformed_answers_ids = set(df[df.Approve == \"malformed answer\"][\"Input.id\"])\n",
    "print(len(malformed_answers_ids))\n",
    "df.loc[df['Input.id'].isin(malformed_answers_ids), 'Annotation'] = 'Malformed'\n",
    "len(df)"
   ]
  },
  {
   "cell_type": "code",
   "execution_count": 47,
   "id": "afae7251",
   "metadata": {},
   "outputs": [
    {
     "name": "stdout",
     "output_type": "stream",
     "text": [
      "108\n"
     ]
    },
    {
     "data": {
      "text/plain": [
       "Input.model\n",
       "torch-scai-qrecc21-test-dataset-2021-07-20-torch-usi_T5_raw2-2021-09-20-05-42-29                                                                  16\n",
       "ultron-scai-qrecc21-test-dataset-rewritten-2021-07-20-ultron-BART-large-top1BM25-2021-09-13-17-47-43                                              11\n",
       "rali-scai-qrecc21-test-dataset-rewritten-2021-07-20-rali-qa-no-run-identifier-2021-09-09-13-01-07                                                 11\n",
       "gpt3-scai-qrecc21-test-dataset-2021-07-20-scai-qrecc21-gpt3-baseline-no-run-identifier-2021-07-21-08-56-42                                         8\n",
       "ultron-scai-qrecc21-test-dataset-2021-07-20-ultron-no-run-identifier-2021-09-04-17-16-58                                                           7\n",
       "rachael-scai-qrecc21-test-dataset-2021-07-20-rachael-no-run-identifier-2021-09-15-09-07-49                                                         6\n",
       "ultron-scai-qrecc21-test-dataset-rewritten-2021-07-20-ultron-no-run-identifier-2021-09-08-15-04-28                                                 6\n",
       "ultron-scai-qrecc21-test-dataset-rewritten-2021-07-20-ultron-rag-bm25_100-ground_truth_rewrites-submission_correct_turn_no-2021-09-19-18-40-28     6\n",
       "rachael-scai-qrecc21-test-dataset-2021-07-20-rachael-no-run-identifier-2021-09-08-07-07-57                                                         5\n",
       "rachael-scai-qrecc21-test-dataset-2021-07-20-rachael-no-run-identifier-2021-09-15-09-08-40                                                         4\n",
       "rachael-scai-qrecc21-test-dataset-rewritten-2021-07-20-rachael-no-run-identifier-2021-09-04-10-39-42                                               4\n",
       "rachael-scai-qrecc21-test-dataset-2021-07-20-rachael-no-run-identifier-2021-09-15-09-06-44                                                         4\n",
       "rachael-scai-qrecc21-test-dataset-2021-07-20-rachael-no-run-identifier-2021-09-08-21-49-44                                                         4\n",
       "rachael-scai-qrecc21-test-dataset-2021-07-20-rachael-no-run-identifier-2021-09-08-07-09-57                                                         4\n",
       "simple-scai-qrecc21-test-dataset-rewritten-2021-07-20-scai-qrecc21-simple-baseline-no-run-identifier-2021-07-21-08-58-25                           3\n",
       "rachael-scai-qrecc21-test-dataset-rewritten-2021-07-20-rachael-no-run-identifier-2021-09-06-09-21-43                                               3\n",
       "rachael-scai-qrecc21-test-dataset-rewritten-2021-07-20-rachael-no-run-identifier-2021-09-15-19-36-31                                               2\n",
       "rachael-scai-qrecc21-test-dataset-2021-07-20-rachael-no-run-identifier-2021-09-08-15-40-34                                                         2\n",
       "simple-scai-qrecc21-test-dataset-2021-07-20-scai-qrecc21-simple-baseline-no-run-identifier-2021-07-20-21-01-58                                     1\n",
       "rachael-scai-qrecc21-test-dataset-2021-07-20-rachael-no-run-identifier-2021-09-15-09-05-06                                                         1\n",
       "dtype: int64"
      ]
     },
     "execution_count": 47,
     "metadata": {},
     "output_type": "execute_result"
    }
   ],
   "source": [
    "df_malformed = df[df['Annotation']=='Malformed']\n",
    "\n",
    "# drop duplicates\n",
    "df_malformed = df_malformed.drop_duplicates(subset=['Input.id', 'Input.predicted'], keep='last')\n",
    "print(len(df_malformed))\n",
    "\n",
    "# df_malformed.head()\n",
    "df_malformed.groupby(['Input.model']).size().sort_values(ascending=False)"
   ]
  },
  {
   "cell_type": "code",
   "execution_count": 45,
   "id": "2cb4859b",
   "metadata": {},
   "outputs": [
    {
     "name": "stdout",
     "output_type": "stream",
     "text": [
      "torch-scai-qrecc21-test-dataset-2021-07-20-torch-usi_T5_raw2-2021-09-20-05-42-29 16\n",
      "ultron-scai-qrecc21-test-dataset-rewritten-2021-07-20-ultron-BART-large-top1BM25-2021-09-13-17-47-43 11\n",
      "rali-scai-qrecc21-test-dataset-rewritten-2021-07-20-rali-qa-no-run-identifier-2021-09-09-13-01-07 11\n",
      "gpt3-scai-qrecc21-test-dataset-2021-07-20-scai-qrecc21-gpt3-baseline-no-run-identifier-2021-07-21-08-56-42 8\n",
      "ultron-scai-qrecc21-test-dataset-2021-07-20-ultron-no-run-identifier-2021-09-04-17-16-58 7\n",
      "ultron-scai-qrecc21-test-dataset-rewritten-2021-07-20-ultron-rag-bm25_100-ground_truth_rewrites-submission_correct_turn_no-2021-09-19-18-40-28 6\n",
      "rachael-scai-qrecc21-test-dataset-2021-07-20-rachael-no-run-identifier-2021-09-15-09-07-49 6\n",
      "ultron-scai-qrecc21-test-dataset-rewritten-2021-07-20-ultron-no-run-identifier-2021-09-08-15-04-28 6\n",
      "rachael-scai-qrecc21-test-dataset-2021-07-20-rachael-no-run-identifier-2021-09-08-07-07-57 5\n",
      "rachael-scai-qrecc21-test-dataset-2021-07-20-rachael-no-run-identifier-2021-09-15-09-06-44 4\n",
      "rachael-scai-qrecc21-test-dataset-2021-07-20-rachael-no-run-identifier-2021-09-08-21-49-44 4\n",
      "rachael-scai-qrecc21-test-dataset-2021-07-20-rachael-no-run-identifier-2021-09-08-07-09-57 4\n",
      "rachael-scai-qrecc21-test-dataset-2021-07-20-rachael-no-run-identifier-2021-09-15-09-08-40 4\n",
      "rachael-scai-qrecc21-test-dataset-rewritten-2021-07-20-rachael-no-run-identifier-2021-09-04-10-39-42 4\n",
      "rachael-scai-qrecc21-test-dataset-rewritten-2021-07-20-rachael-no-run-identifier-2021-09-06-09-21-43 3\n",
      "simple-scai-qrecc21-test-dataset-rewritten-2021-07-20-scai-qrecc21-simple-baseline-no-run-identifier-2021-07-21-08-58-25 3\n",
      "rachael-scai-qrecc21-test-dataset-rewritten-2021-07-20-rachael-no-run-identifier-2021-09-15-19-36-31 2\n",
      "rachael-scai-qrecc21-test-dataset-2021-07-20-rachael-no-run-identifier-2021-09-08-15-40-34 2\n",
      "simple-scai-qrecc21-test-dataset-2021-07-20-scai-qrecc21-simple-baseline-no-run-identifier-2021-07-20-21-01-58 1\n",
      "rachael-scai-qrecc21-test-dataset-2021-07-20-rachael-no-run-identifier-2021-09-15-09-05-06 1\n"
     ]
    }
   ],
   "source": [
    "from collections import defaultdict, Counter\n",
    "\n",
    "correct_answers = defaultdict(list)\n",
    "models = Counter()\n",
    "for index, row in df_malformed.iterrows():\n",
    "    answer = row['Input.predicted']\n",
    "    model = row['Input.model']\n",
    "    if answer not in correct_answers[row['Input.question']]:\n",
    "        correct_answers[row['Input.question']].append(answer)\n",
    "        models[model] += 1\n",
    "\n",
    "for m, c in models.most_common(200):\n",
    "    print(m, c)"
   ]
  },
  {
   "cell_type": "code",
   "execution_count": 7,
   "id": "3dd77fa6",
   "metadata": {},
   "outputs": [
    {
     "data": {
      "text/plain": [
       "2618"
      ]
     },
     "execution_count": 7,
     "metadata": {},
     "output_type": "execute_result"
    }
   ],
   "source": [
    "# remove all duplicate rows where the judgments agreed for the same id, answer and annotation\n",
    "df = df.drop_duplicates(subset=['Input.id', 'Input.predicted', 'Annotation'], keep='last')\n",
    "len(df)"
   ]
  },
  {
   "cell_type": "code",
   "execution_count": 8,
   "id": "8f8ac558",
   "metadata": {},
   "outputs": [
    {
     "data": {
      "text/html": [
       "<div>\n",
       "<style scoped>\n",
       "    .dataframe tbody tr th:only-of-type {\n",
       "        vertical-align: middle;\n",
       "    }\n",
       "\n",
       "    .dataframe tbody tr th {\n",
       "        vertical-align: top;\n",
       "    }\n",
       "\n",
       "    .dataframe thead th {\n",
       "        text-align: right;\n",
       "    }\n",
       "</style>\n",
       "<table border=\"1\" class=\"dataframe\">\n",
       "  <thead>\n",
       "    <tr style=\"text-align: right;\">\n",
       "      <th></th>\n",
       "      <th>WorkTimeInSeconds</th>\n",
       "      <th>Input.id</th>\n",
       "      <th>Input.question</th>\n",
       "      <th>Input.predicted</th>\n",
       "      <th>Input.model</th>\n",
       "      <th>Answer.comments</th>\n",
       "      <th>Approve</th>\n",
       "      <th>Annotation</th>\n",
       "    </tr>\n",
       "  </thead>\n",
       "  <tbody>\n",
       "    <tr>\n",
       "      <th>0</th>\n",
       "      <td>18</td>\n",
       "      <td>1_1</td>\n",
       "      <td>What is a physician's assistant?</td>\n",
       "      <td>A physician assistant is a person who has succ...</td>\n",
       "      <td>ultron-scai-qrecc21-test-dataset-rewritten-202...</td>\n",
       "      <td>NICE</td>\n",
       "      <td>NaN</td>\n",
       "      <td>Plausible</td>\n",
       "    </tr>\n",
       "    <tr>\n",
       "      <th>1</th>\n",
       "      <td>20</td>\n",
       "      <td>1_1</td>\n",
       "      <td>What is a physician's assistant?</td>\n",
       "      <td>A physician's assistant (PA) is a medical assi...</td>\n",
       "      <td>rachael-scai-qrecc21-test-dataset-rewritten-20...</td>\n",
       "      <td>NaN</td>\n",
       "      <td>NaN</td>\n",
       "      <td>Plausible</td>\n",
       "    </tr>\n",
       "    <tr>\n",
       "      <th>2</th>\n",
       "      <td>83</td>\n",
       "      <td>1_1</td>\n",
       "      <td>What is a physician's assistant?</td>\n",
       "      <td>A physician's assistant (PA) is a medical assi...</td>\n",
       "      <td>rachael-scai-qrecc21-test-dataset-2021-07-20-r...</td>\n",
       "      <td>NaN</td>\n",
       "      <td>NaN</td>\n",
       "      <td>Plausible</td>\n",
       "    </tr>\n",
       "    <tr>\n",
       "      <th>3</th>\n",
       "      <td>31</td>\n",
       "      <td>1_1</td>\n",
       "      <td>What is a physician's assistant?</td>\n",
       "      <td>A physician's assistant is a person who assist...</td>\n",
       "      <td>gpt3-scai-qrecc21-test-dataset-2021-07-20-scai...</td>\n",
       "      <td>It is very interesting to the survey.</td>\n",
       "      <td>NaN</td>\n",
       "      <td>Plausible</td>\n",
       "    </tr>\n",
       "    <tr>\n",
       "      <th>4</th>\n",
       "      <td>56</td>\n",
       "      <td>1_1</td>\n",
       "      <td>What is a physician's assistant?</td>\n",
       "      <td>A physician's assistant (PA) is a medical assi...</td>\n",
       "      <td>rachael-scai-qrecc21-test-dataset-rewritten-20...</td>\n",
       "      <td>It's really interesting</td>\n",
       "      <td>NaN</td>\n",
       "      <td>Plausible</td>\n",
       "    </tr>\n",
       "    <tr>\n",
       "      <th>...</th>\n",
       "      <td>...</td>\n",
       "      <td>...</td>\n",
       "      <td>...</td>\n",
       "      <td>...</td>\n",
       "      <td>...</td>\n",
       "      <td>...</td>\n",
       "      <td>...</td>\n",
       "      <td>...</td>\n",
       "    </tr>\n",
       "    <tr>\n",
       "      <th>5500</th>\n",
       "      <td>5</td>\n",
       "      <td>99_5</td>\n",
       "      <td>Was Glamazon a nickname for Beth Phoenix?</td>\n",
       "      <td>Glamazon is a nickname for WWE Hall of Famer B...</td>\n",
       "      <td>rachael-scai-qrecc21-test-dataset-2021-07-20-r...</td>\n",
       "      <td>NaN</td>\n",
       "      <td>NaN</td>\n",
       "      <td>Plausible</td>\n",
       "    </tr>\n",
       "    <tr>\n",
       "      <th>5501</th>\n",
       "      <td>16</td>\n",
       "      <td>99_5</td>\n",
       "      <td>Was Glamazon a nickname for Beth Phoenix?</td>\n",
       "      <td>glamazon is so-named because of beth phoenix's...</td>\n",
       "      <td>ultron-scai-qrecc21-test-dataset-rewritten-202...</td>\n",
       "      <td>NaN</td>\n",
       "      <td>NaN</td>\n",
       "      <td>Malformed</td>\n",
       "    </tr>\n",
       "    <tr>\n",
       "      <th>5502</th>\n",
       "      <td>19</td>\n",
       "      <td>99_5</td>\n",
       "      <td>Was Glamazon a nickname for Beth Phoenix?</td>\n",
       "      <td>glamazon is so-named because of beth phoenix's...</td>\n",
       "      <td>ultron-scai-qrecc21-test-dataset-rewritten-202...</td>\n",
       "      <td>NaN</td>\n",
       "      <td>NaN</td>\n",
       "      <td>Plausible</td>\n",
       "    </tr>\n",
       "    <tr>\n",
       "      <th>5504</th>\n",
       "      <td>19</td>\n",
       "      <td>99_5</td>\n",
       "      <td>Was Glamazon a nickname for Beth Phoenix?</td>\n",
       "      <td>Beth Phoenix's nickname was Glamazon.</td>\n",
       "      <td>rachael-scai-qrecc21-test-dataset-2021-07-20-r...</td>\n",
       "      <td>NaN</td>\n",
       "      <td>NaN</td>\n",
       "      <td>Plausible</td>\n",
       "    </tr>\n",
       "    <tr>\n",
       "      <th>5506</th>\n",
       "      <td>8</td>\n",
       "      <td>99_5</td>\n",
       "      <td>Was Glamazon a nickname for Beth Phoenix?</td>\n",
       "      <td>Glamazon was a nickname for Beth Phoenix, whic...</td>\n",
       "      <td>torch-scai-qrecc21-test-dataset-2021-07-20-tor...</td>\n",
       "      <td>NaN</td>\n",
       "      <td>NaN</td>\n",
       "      <td>Plausible</td>\n",
       "    </tr>\n",
       "  </tbody>\n",
       "</table>\n",
       "<p>2618 rows × 8 columns</p>\n",
       "</div>"
      ],
      "text/plain": [
       "      WorkTimeInSeconds Input.id                             Input.question  \\\n",
       "0                    18      1_1           What is a physician's assistant?   \n",
       "1                    20      1_1           What is a physician's assistant?   \n",
       "2                    83      1_1           What is a physician's assistant?   \n",
       "3                    31      1_1           What is a physician's assistant?   \n",
       "4                    56      1_1           What is a physician's assistant?   \n",
       "...                 ...      ...                                        ...   \n",
       "5500                  5     99_5  Was Glamazon a nickname for Beth Phoenix?   \n",
       "5501                 16     99_5  Was Glamazon a nickname for Beth Phoenix?   \n",
       "5502                 19     99_5  Was Glamazon a nickname for Beth Phoenix?   \n",
       "5504                 19     99_5  Was Glamazon a nickname for Beth Phoenix?   \n",
       "5506                  8     99_5  Was Glamazon a nickname for Beth Phoenix?   \n",
       "\n",
       "                                        Input.predicted  \\\n",
       "0     A physician assistant is a person who has succ...   \n",
       "1     A physician's assistant (PA) is a medical assi...   \n",
       "2     A physician's assistant (PA) is a medical assi...   \n",
       "3     A physician's assistant is a person who assist...   \n",
       "4     A physician's assistant (PA) is a medical assi...   \n",
       "...                                                 ...   \n",
       "5500  Glamazon is a nickname for WWE Hall of Famer B...   \n",
       "5501  glamazon is so-named because of beth phoenix's...   \n",
       "5502  glamazon is so-named because of beth phoenix's...   \n",
       "5504              Beth Phoenix's nickname was Glamazon.   \n",
       "5506  Glamazon was a nickname for Beth Phoenix, whic...   \n",
       "\n",
       "                                            Input.model  \\\n",
       "0     ultron-scai-qrecc21-test-dataset-rewritten-202...   \n",
       "1     rachael-scai-qrecc21-test-dataset-rewritten-20...   \n",
       "2     rachael-scai-qrecc21-test-dataset-2021-07-20-r...   \n",
       "3     gpt3-scai-qrecc21-test-dataset-2021-07-20-scai...   \n",
       "4     rachael-scai-qrecc21-test-dataset-rewritten-20...   \n",
       "...                                                 ...   \n",
       "5500  rachael-scai-qrecc21-test-dataset-2021-07-20-r...   \n",
       "5501  ultron-scai-qrecc21-test-dataset-rewritten-202...   \n",
       "5502  ultron-scai-qrecc21-test-dataset-rewritten-202...   \n",
       "5504  rachael-scai-qrecc21-test-dataset-2021-07-20-r...   \n",
       "5506  torch-scai-qrecc21-test-dataset-2021-07-20-tor...   \n",
       "\n",
       "                            Answer.comments Approve Annotation  \n",
       "0                                      NICE     NaN  Plausible  \n",
       "1                                       NaN     NaN  Plausible  \n",
       "2                                       NaN     NaN  Plausible  \n",
       "3     It is very interesting to the survey.     NaN  Plausible  \n",
       "4                   It's really interesting     NaN  Plausible  \n",
       "...                                     ...     ...        ...  \n",
       "5500                                    NaN     NaN  Plausible  \n",
       "5501                                    NaN     NaN  Malformed  \n",
       "5502                                    NaN     NaN  Plausible  \n",
       "5504                                    NaN     NaN  Plausible  \n",
       "5506                                    NaN     NaN  Plausible  \n",
       "\n",
       "[2618 rows x 8 columns]"
      ]
     },
     "execution_count": 8,
     "metadata": {},
     "output_type": "execute_result"
    }
   ],
   "source": [
    "df"
   ]
  },
  {
   "cell_type": "code",
   "execution_count": 9,
   "id": "ef9668b6",
   "metadata": {},
   "outputs": [],
   "source": [
    "# save resulting table with disagreements that were not resolved manually by the quality evaluator\n",
    "df.to_csv('answer_plausibility_annotations_clean_with_disagreements.csv')"
   ]
  },
  {
   "cell_type": "code",
   "execution_count": 14,
   "id": "28c55721",
   "metadata": {},
   "outputs": [
    {
     "data": {
      "text/plain": [
       "2078"
      ]
     },
     "execution_count": 14,
     "metadata": {},
     "output_type": "execute_result"
    }
   ],
   "source": [
    "# remove all rows with disagreements automatically and save as a new table\n",
    "# ie all duplicate rows on the first two columns that were not removed at the previous step\n",
    "df = df.drop_duplicates(subset=['Input.id', 'Input.predicted'], keep=False)\n",
    "df.to_csv('answer_plausibility_annotations_clean_without_disagreements.csv')\n",
    "len(df)"
   ]
  },
  {
   "cell_type": "code",
   "execution_count": 51,
   "id": "49804587",
   "metadata": {},
   "outputs": [
    {
     "name": "stdout",
     "output_type": "stream",
     "text": [
      "2078 rows\n",
      "1863 rows\n"
     ]
    }
   ],
   "source": [
    "# load generated answers with plausibility annotations\n",
    "# download file from https://zenodo.org/record/5752542#.Yau-Li8RppQ\n",
    "import pandas as pd\n",
    "\n",
    "df = pd.read_csv('../annotations/answer_plausibility_annotations_clean_without_disagreements.csv')\n",
    "print(len(df), 'rows')\n",
    "\n",
    "# subset of all plausible answers\n",
    "df_plausible = df[df['Annotation']=='Plausible']\n",
    "print(len(df_plausible), 'rows')"
   ]
  },
  {
   "cell_type": "code",
   "execution_count": 52,
   "id": "cfb13554",
   "metadata": {},
   "outputs": [
    {
     "name": "stdout",
     "output_type": "stream",
     "text": [
      "1863 rows\n"
     ]
    },
    {
     "data": {
      "text/plain": [
       "Input.model\n",
       "rachael-scai-qrecc21-test-dataset-rewritten-2021-07-20-rachael-no-run-identifier-2021-09-04-10-39-42                                              183\n",
       "ultron-scai-qrecc21-test-dataset-rewritten-2021-07-20-ultron-rag-bm25_100-ground_truth_rewrites-submission_correct_turn_no-2021-09-19-18-40-28    173\n",
       "rachael-scai-qrecc21-test-dataset-rewritten-2021-07-20-rachael-no-run-identifier-2021-09-06-09-21-43                                              158\n",
       "ultron-scai-qrecc21-test-dataset-rewritten-2021-07-20-ultron-no-run-identifier-2021-09-08-15-04-28                                                149\n",
       "gpt3-scai-qrecc21-test-dataset-2021-07-20-scai-qrecc21-gpt3-baseline-no-run-identifier-2021-07-21-08-56-42                                        149\n",
       "rachael-scai-qrecc21-test-dataset-2021-07-20-rachael-no-run-identifier-2021-09-08-21-49-44                                                        133\n",
       "rachael-scai-qrecc21-test-dataset-rewritten-2021-07-20-rachael-no-run-identifier-2021-09-15-19-36-31                                              132\n",
       "rachael-scai-qrecc21-test-dataset-2021-07-20-rachael-no-run-identifier-2021-09-08-07-07-57                                                        120\n",
       "ultron-scai-qrecc21-test-dataset-2021-07-20-ultron-no-run-identifier-2021-09-04-17-16-58                                                          117\n",
       "rachael-scai-qrecc21-test-dataset-2021-07-20-rachael-no-run-identifier-2021-09-15-09-07-49                                                        103\n",
       "rachael-scai-qrecc21-test-dataset-2021-07-20-rachael-no-run-identifier-2021-09-08-07-09-57                                                         75\n",
       "rachael-scai-qrecc21-test-dataset-2021-07-20-rachael-no-run-identifier-2021-09-15-09-06-44                                                         73\n",
       "rachael-scai-qrecc21-test-dataset-2021-07-20-rachael-no-run-identifier-2021-09-15-09-05-06                                                         52\n",
       "rachael-scai-qrecc21-test-dataset-2021-07-20-rachael-no-run-identifier-2021-09-15-09-08-40                                                         52\n",
       "rachael-scai-qrecc21-test-dataset-2021-07-20-rachael-no-run-identifier-2021-09-04-10-38-07                                                         41\n",
       "rachael-scai-qrecc21-test-dataset-2021-07-20-rachael-no-run-identifier-2021-09-08-15-40-34                                                         41\n",
       "torch-scai-qrecc21-test-dataset-2021-07-20-torch-usi_T5_raw2-2021-09-20-05-42-29                                                                   36\n",
       "rali-scai-qrecc21-test-dataset-rewritten-2021-07-20-rali-qa-no-run-identifier-2021-09-09-13-01-07                                                  33\n",
       "ultron-scai-qrecc21-test-dataset-rewritten-2021-07-20-ultron-BART-large-top1BM25-2021-09-13-17-47-43                                               29\n",
       "simple-scai-qrecc21-test-dataset-rewritten-2021-07-20-scai-qrecc21-simple-baseline-no-run-identifier-2021-07-21-08-58-25                           14\n",
       "dtype: int64"
      ]
     },
     "execution_count": 52,
     "metadata": {},
     "output_type": "execute_result"
    }
   ],
   "source": [
    "# subset of all plausible answers\n",
    "df_implausible = df[df['Annotation']=='Plausible']\n",
    "print(len(df_implausible), 'rows')\n",
    "df_implausible.groupby(['Input.model']).size().sort_values(ascending=False)"
   ]
  },
  {
   "cell_type": "code",
   "execution_count": 54,
   "id": "a72bf878",
   "metadata": {},
   "outputs": [
    {
     "name": "stdout",
     "output_type": "stream",
     "text": [
      "rachael-scai-qrecc21-test-dataset-rewritten-2021-07-20-rachael-no-run-identifier-2021-09-04-10-39-42 183\n",
      "ultron-scai-qrecc21-test-dataset-rewritten-2021-07-20-ultron-rag-bm25_100-ground_truth_rewrites-submission_correct_turn_no-2021-09-19-18-40-28 173\n",
      "rachael-scai-qrecc21-test-dataset-rewritten-2021-07-20-rachael-no-run-identifier-2021-09-06-09-21-43 158\n",
      "gpt3-scai-qrecc21-test-dataset-2021-07-20-scai-qrecc21-gpt3-baseline-no-run-identifier-2021-07-21-08-56-42 149\n",
      "ultron-scai-qrecc21-test-dataset-rewritten-2021-07-20-ultron-no-run-identifier-2021-09-08-15-04-28 149\n",
      "rachael-scai-qrecc21-test-dataset-2021-07-20-rachael-no-run-identifier-2021-09-08-21-49-44 133\n",
      "rachael-scai-qrecc21-test-dataset-rewritten-2021-07-20-rachael-no-run-identifier-2021-09-15-19-36-31 132\n",
      "rachael-scai-qrecc21-test-dataset-2021-07-20-rachael-no-run-identifier-2021-09-08-07-07-57 120\n",
      "ultron-scai-qrecc21-test-dataset-2021-07-20-ultron-no-run-identifier-2021-09-04-17-16-58 117\n",
      "rachael-scai-qrecc21-test-dataset-2021-07-20-rachael-no-run-identifier-2021-09-15-09-07-49 103\n",
      "rachael-scai-qrecc21-test-dataset-2021-07-20-rachael-no-run-identifier-2021-09-08-07-09-57 75\n",
      "rachael-scai-qrecc21-test-dataset-2021-07-20-rachael-no-run-identifier-2021-09-15-09-06-44 73\n",
      "rachael-scai-qrecc21-test-dataset-2021-07-20-rachael-no-run-identifier-2021-09-15-09-05-06 52\n",
      "rachael-scai-qrecc21-test-dataset-2021-07-20-rachael-no-run-identifier-2021-09-15-09-08-40 52\n",
      "rachael-scai-qrecc21-test-dataset-2021-07-20-rachael-no-run-identifier-2021-09-04-10-38-07 41\n",
      "rachael-scai-qrecc21-test-dataset-2021-07-20-rachael-no-run-identifier-2021-09-08-15-40-34 41\n",
      "torch-scai-qrecc21-test-dataset-2021-07-20-torch-usi_T5_raw2-2021-09-20-05-42-29 36\n",
      "rali-scai-qrecc21-test-dataset-rewritten-2021-07-20-rali-qa-no-run-identifier-2021-09-09-13-01-07 33\n",
      "ultron-scai-qrecc21-test-dataset-rewritten-2021-07-20-ultron-BART-large-top1BM25-2021-09-13-17-47-43 29\n",
      "simple-scai-qrecc21-test-dataset-rewritten-2021-07-20-scai-qrecc21-simple-baseline-no-run-identifier-2021-07-21-08-58-25 14\n"
     ]
    }
   ],
   "source": [
    "from collections import defaultdict, Counter\n",
    "\n",
    "correct_answers = defaultdict(list)\n",
    "models = Counter()\n",
    "for index, row in df_plausible.iterrows():\n",
    "    answer = row['Input.predicted']\n",
    "    model = row['Input.model']\n",
    "#     if answer not in correct_answers[row['Input.question']]:\n",
    "    correct_answers[row['Input.question']].append(answer)\n",
    "    models[model] += 1\n",
    "\n",
    "for m, c in models.most_common(200):\n",
    "    print(m, c)"
   ]
  },
  {
   "cell_type": "code",
   "execution_count": 48,
   "id": "c32dedf9",
   "metadata": {},
   "outputs": [
    {
     "name": "stdout",
     "output_type": "stream",
     "text": [
      "107 rows\n"
     ]
    },
    {
     "data": {
      "text/plain": [
       "Input.model\n",
       "ultron-scai-qrecc21-test-dataset-rewritten-2021-07-20-ultron-no-run-identifier-2021-09-08-15-04-28                                                16\n",
       "ultron-scai-qrecc21-test-dataset-rewritten-2021-07-20-ultron-rag-bm25_100-ground_truth_rewrites-submission_correct_turn_no-2021-09-19-18-40-28    15\n",
       "ultron-scai-qrecc21-test-dataset-2021-07-20-ultron-no-run-identifier-2021-09-04-17-16-58                                                          13\n",
       "torch-scai-qrecc21-test-dataset-2021-07-20-torch-usi_T5_raw2-2021-09-20-05-42-29                                                                   7\n",
       "rali-scai-qrecc21-test-dataset-rewritten-2021-07-20-rali-qa-no-run-identifier-2021-09-09-13-01-07                                                  6\n",
       "rachael-scai-qrecc21-test-dataset-2021-07-20-rachael-no-run-identifier-2021-09-08-15-40-34                                                         6\n",
       "rachael-scai-qrecc21-test-dataset-2021-07-20-rachael-no-run-identifier-2021-09-08-21-49-44                                                         6\n",
       "rachael-scai-qrecc21-test-dataset-rewritten-2021-07-20-rachael-no-run-identifier-2021-09-04-10-39-42                                               5\n",
       "rachael-scai-qrecc21-test-dataset-2021-07-20-rachael-no-run-identifier-2021-09-15-09-08-40                                                         4\n",
       "rachael-scai-qrecc21-test-dataset-rewritten-2021-07-20-rachael-no-run-identifier-2021-09-06-09-21-43                                               4\n",
       "rachael-scai-qrecc21-test-dataset-2021-07-20-rachael-no-run-identifier-2021-09-15-09-07-49                                                         4\n",
       "rachael-scai-qrecc21-test-dataset-2021-07-20-rachael-no-run-identifier-2021-09-08-07-07-57                                                         4\n",
       "gpt3-scai-qrecc21-test-dataset-2021-07-20-scai-qrecc21-gpt3-baseline-no-run-identifier-2021-07-21-08-56-42                                         4\n",
       "ultron-scai-qrecc21-test-dataset-rewritten-2021-07-20-ultron-BART-large-top1BM25-2021-09-13-17-47-43                                               3\n",
       "rachael-scai-qrecc21-test-dataset-2021-07-20-rachael-no-run-identifier-2021-09-04-10-38-07                                                         2\n",
       "rachael-scai-qrecc21-test-dataset-rewritten-2021-07-20-rachael-no-run-identifier-2021-09-15-19-36-31                                               2\n",
       "simple-scai-qrecc21-test-dataset-rewritten-2021-07-20-scai-qrecc21-simple-baseline-no-run-identifier-2021-07-21-08-58-25                           2\n",
       "rachael-scai-qrecc21-test-dataset-2021-07-20-rachael-no-run-identifier-2021-09-15-09-05-06                                                         2\n",
       "rachael-scai-qrecc21-test-dataset-2021-07-20-rachael-no-run-identifier-2021-09-08-07-09-57                                                         2\n",
       "dtype: int64"
      ]
     },
     "execution_count": 48,
     "metadata": {},
     "output_type": "execute_result"
    }
   ],
   "source": [
    "# subset of all plausible answers\n",
    "df_implausible = df[df['Annotation']=='Implausible']\n",
    "print(len(df_implausible), 'rows')\n",
    "df_implausible.groupby(['Input.model']).size().sort_values(ascending=False)"
   ]
  },
  {
   "cell_type": "code",
   "execution_count": 7,
   "id": "657ee766",
   "metadata": {},
   "outputs": [
    {
     "name": "stdout",
     "output_type": "stream",
     "text": [
      "494\n"
     ]
    }
   ],
   "source": [
    "print(len(correct_answers))"
   ]
  },
  {
   "cell_type": "code",
   "execution_count": 10,
   "id": "d4a0bf1d",
   "metadata": {},
   "outputs": [
    {
     "name": "stdout",
     "output_type": "stream",
     "text": [
      "1 3.7712550607287447 13\n",
      "465 questions with more than one plausible answers\n"
     ]
    }
   ],
   "source": [
    "import numpy as np\n",
    "\n",
    "cluster_lens = []\n",
    "n = 0\n",
    "for cluster in correct_answers.values():\n",
    "    cluster_lens.append(len(cluster))\n",
    "    if len(cluster) > 1:\n",
    "        n += 1\n",
    "print(min(cluster_lens), np.mean(cluster_lens), max(cluster_lens))\n",
    "print(n, 'questions with more than one plausible answers')"
   ]
  },
  {
   "cell_type": "code",
   "execution_count": 15,
   "id": "3ee6e30e",
   "metadata": {},
   "outputs": [
    {
     "name": "stdout",
     "output_type": "stream",
     "text": [
      "492\n",
      "What is a physician's assistant?\n",
      "A physician assistant is a person who has successfully completed an accredited education program for physician assistant, is licensed by the state and is practicing within the scope of that license.\n",
      "A physician's assistant (PA) is a medical assistant who works under the supervision of a physician and is licensed to practice medicine in the state in which the patient resides.\n",
      "A physician's assistant (PA) is a medical assistant.\n",
      "A physician's assistant is a person who assists a physician in the performance of his or her duties.\n",
      "A physician's assistant (PA) is a medical assistant who works for a supervising physician who is responsible for patients, cared for by the physician assistant.\n",
      "A physician assistant is a medical professional who assists a doctor in the diagnosis and treatment of a patient.\n",
      "A physician's assistant is a medical assistant.\n",
      "A physician's assistant is a medical professional who provides medical care to patients.\n",
      "A physician's assistant (PA) is a medical professional who provides medical care for patients.\n",
      "A physician's assistant is a person who assists a physician in the administration of medical procedures.\n",
      "A physician's assistant (PA) is a medical assistant who works under the direct supervision of a physician and is licensed to practice medicine in the state in which the patient resides.\n"
     ]
    }
   ],
   "source": [
    "# samples\n",
    "from collections import defaultdict\n",
    "\n",
    "correct_answers = defaultdict(list)\n",
    "for index, row in df_plausible.iterrows():\n",
    "    answer = row['Input.predicted']\n",
    "    model = row['Input.model']\n",
    "    if answer not in correct_answers[row['Input.question']]:\n",
    "        correct_answers[row['Input.question']].append(answer)\n",
    "print(len(correct_answers))\n",
    "\n",
    "for q, ass in correct_answers.items():\n",
    "    print(q)\n",
    "    for a in ass:\n",
    "        print(a)\n",
    "    break"
   ]
  },
  {
   "cell_type": "code",
   "execution_count": null,
   "id": "07b4ff52",
   "metadata": {},
   "outputs": [],
   "source": []
  }
 ],
 "metadata": {
  "kernelspec": {
   "display_name": "qrecc",
   "language": "python",
   "name": "qrecc"
  },
  "language_info": {
   "codemirror_mode": {
    "name": "ipython",
    "version": 3
   },
   "file_extension": ".py",
   "mimetype": "text/x-python",
   "name": "python",
   "nbconvert_exporter": "python",
   "pygments_lexer": "ipython3",
   "version": "3.7.11"
  }
 },
 "nbformat": 4,
 "nbformat_minor": 5
}
